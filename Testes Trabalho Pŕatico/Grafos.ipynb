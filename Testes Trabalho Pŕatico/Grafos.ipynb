{
 "cells": [
  {
   "cell_type": "code",
   "execution_count": 1,
   "metadata": {},
   "outputs": [],
   "source": [
    "import networkx as nx\n",
    "G = nx.Graph()"
   ]
  },
  {
   "cell_type": "code",
   "execution_count": 2,
   "metadata": {},
   "outputs": [],
   "source": [
    "import pandas as pd"
   ]
  },
  {
   "cell_type": "code",
   "execution_count": 3,
   "metadata": {},
   "outputs": [],
   "source": [
    "RPwomen = pd.read_csv('./Comments-Data/RedPillWomen_Comments.csv')\n",
    "RPwomen = RPwomen[RPwomen.Author != '[deleted]']\n",
    "RPwomen_au = pd.DataFrame(RPwomen.groupby('Author')['Score'].sum())\n",
    "RPwomen_au['sub'] = 'RPwomen '"
   ]
  },
  {
   "cell_type": "code",
   "execution_count": 4,
   "metadata": {},
   "outputs": [
    {
     "data": {
      "text/html": [
       "<div>\n",
       "<style scoped>\n",
       "    .dataframe tbody tr th:only-of-type {\n",
       "        vertical-align: middle;\n",
       "    }\n",
       "\n",
       "    .dataframe tbody tr th {\n",
       "        vertical-align: top;\n",
       "    }\n",
       "\n",
       "    .dataframe thead th {\n",
       "        text-align: right;\n",
       "    }\n",
       "</style>\n",
       "<table border=\"1\" class=\"dataframe\">\n",
       "  <thead>\n",
       "    <tr style=\"text-align: right;\">\n",
       "      <th></th>\n",
       "      <th>Score</th>\n",
       "      <th>sub</th>\n",
       "    </tr>\n",
       "    <tr>\n",
       "      <th>Author</th>\n",
       "      <th></th>\n",
       "      <th></th>\n",
       "    </tr>\n",
       "  </thead>\n",
       "  <tbody>\n",
       "    <tr>\n",
       "      <th>-SoItGoes</th>\n",
       "      <td>12</td>\n",
       "      <td>RPwomen</td>\n",
       "    </tr>\n",
       "    <tr>\n",
       "      <th>-TheOutsid3r-</th>\n",
       "      <td>13</td>\n",
       "      <td>RPwomen</td>\n",
       "    </tr>\n",
       "    <tr>\n",
       "      <th>30303030303030</th>\n",
       "      <td>5</td>\n",
       "      <td>RPwomen</td>\n",
       "    </tr>\n",
       "    <tr>\n",
       "      <th>488Koala</th>\n",
       "      <td>2</td>\n",
       "      <td>RPwomen</td>\n",
       "    </tr>\n",
       "    <tr>\n",
       "      <th>4Blu</th>\n",
       "      <td>2</td>\n",
       "      <td>RPwomen</td>\n",
       "    </tr>\n",
       "  </tbody>\n",
       "</table>\n",
       "</div>"
      ],
      "text/plain": [
       "                Score       sub\n",
       "Author                         \n",
       "-SoItGoes          12  RPwomen \n",
       "-TheOutsid3r-      13  RPwomen \n",
       "30303030303030      5  RPwomen \n",
       "488Koala            2  RPwomen \n",
       "4Blu                2  RPwomen "
      ]
     },
     "execution_count": 4,
     "metadata": {},
     "output_type": "execute_result"
    }
   ],
   "source": [
    "RPwomen_au.head()"
   ]
  },
  {
   "cell_type": "code",
   "execution_count": 5,
   "metadata": {},
   "outputs": [
    {
     "data": {
      "text/html": [
       "<div>\n",
       "<style scoped>\n",
       "    .dataframe tbody tr th:only-of-type {\n",
       "        vertical-align: middle;\n",
       "    }\n",
       "\n",
       "    .dataframe tbody tr th {\n",
       "        vertical-align: top;\n",
       "    }\n",
       "\n",
       "    .dataframe thead th {\n",
       "        text-align: right;\n",
       "    }\n",
       "</style>\n",
       "<table border=\"1\" class=\"dataframe\">\n",
       "  <thead>\n",
       "    <tr style=\"text-align: right;\">\n",
       "      <th></th>\n",
       "      <th>Score</th>\n",
       "      <th>sub</th>\n",
       "    </tr>\n",
       "    <tr>\n",
       "      <th>Author</th>\n",
       "      <th></th>\n",
       "      <th></th>\n",
       "    </tr>\n",
       "  </thead>\n",
       "  <tbody>\n",
       "    <tr>\n",
       "      <th>10199</th>\n",
       "      <td>12</td>\n",
       "      <td>TRP</td>\n",
       "    </tr>\n",
       "    <tr>\n",
       "      <th>35652424</th>\n",
       "      <td>-1</td>\n",
       "      <td>TRP</td>\n",
       "    </tr>\n",
       "    <tr>\n",
       "      <th>46xy</th>\n",
       "      <td>6</td>\n",
       "      <td>TRP</td>\n",
       "    </tr>\n",
       "    <tr>\n",
       "      <th>Adrn19</th>\n",
       "      <td>3</td>\n",
       "      <td>TRP</td>\n",
       "    </tr>\n",
       "    <tr>\n",
       "      <th>AnInvention</th>\n",
       "      <td>3</td>\n",
       "      <td>TRP</td>\n",
       "    </tr>\n",
       "  </tbody>\n",
       "</table>\n",
       "</div>"
      ],
      "text/plain": [
       "             Score   sub\n",
       "Author                  \n",
       "10199           12  TRP \n",
       "35652424        -1  TRP \n",
       "46xy             6  TRP \n",
       "Adrn19           3  TRP \n",
       "AnInvention      3  TRP "
      ]
     },
     "execution_count": 5,
     "metadata": {},
     "output_type": "execute_result"
    }
   ],
   "source": [
    "TRP = pd.read_csv('./Comments-Data/TheRedPill_Comments.csv')\n",
    "TRP = TRP[TRP.Author != '[deleted]']\n",
    "TRP_au = pd.DataFrame(TRP.groupby('Author')['Score'].sum())\n",
    "TRP_au['sub'] = 'TRP '\n",
    "TRP_au.head()"
   ]
  },
  {
   "cell_type": "code",
   "execution_count": 52,
   "metadata": {},
   "outputs": [
    {
     "data": {
      "text/html": [
       "<div>\n",
       "<style scoped>\n",
       "    .dataframe tbody tr th:only-of-type {\n",
       "        vertical-align: middle;\n",
       "    }\n",
       "\n",
       "    .dataframe tbody tr th {\n",
       "        vertical-align: top;\n",
       "    }\n",
       "\n",
       "    .dataframe thead th {\n",
       "        text-align: right;\n",
       "    }\n",
       "</style>\n",
       "<table border=\"1\" class=\"dataframe\">\n",
       "  <thead>\n",
       "    <tr style=\"text-align: right;\">\n",
       "      <th></th>\n",
       "      <th>0</th>\n",
       "      <th>1</th>\n",
       "      <th>sub</th>\n",
       "    </tr>\n",
       "  </thead>\n",
       "  <tbody>\n",
       "    <tr>\n",
       "      <th>0</th>\n",
       "      <td>-HeartOfDark-</td>\n",
       "      <td>4655    -HeartOfDark-\n",
       "Name: Author, dtype: object</td>\n",
       "      <td>asktrp</td>\n",
       "    </tr>\n",
       "    <tr>\n",
       "      <th>1</th>\n",
       "      <td>01234five</td>\n",
       "      <td>4954    01234five\n",
       "Name: Author, dtype: object</td>\n",
       "      <td>asktrp</td>\n",
       "    </tr>\n",
       "    <tr>\n",
       "      <th>2</th>\n",
       "      <td>0io-</td>\n",
       "      <td>4004    0io-\n",
       "4219    0io-\n",
       "4229    0io-\n",
       "4233   ...</td>\n",
       "      <td>asktrp</td>\n",
       "    </tr>\n",
       "    <tr>\n",
       "      <th>3</th>\n",
       "      <td>0sleepless</td>\n",
       "      <td>3553    0sleepless\n",
       "Name: Author, dtype: object</td>\n",
       "      <td>asktrp</td>\n",
       "    </tr>\n",
       "    <tr>\n",
       "      <th>4</th>\n",
       "      <td>1BadDayAway</td>\n",
       "      <td>4889    1BadDayAway\n",
       "Name: Author, dtype: object</td>\n",
       "      <td>asktrp</td>\n",
       "    </tr>\n",
       "  </tbody>\n",
       "</table>\n",
       "</div>"
      ],
      "text/plain": [
       "               0                                                  1      sub\n",
       "0  -HeartOfDark-  4655    -HeartOfDark-\n",
       "Name: Author, dtype: object  asktrp \n",
       "1      01234five      4954    01234five\n",
       "Name: Author, dtype: object  asktrp \n",
       "2           0io-  4004    0io-\n",
       "4219    0io-\n",
       "4229    0io-\n",
       "4233   ...  asktrp \n",
       "3     0sleepless     3553    0sleepless\n",
       "Name: Author, dtype: object  asktrp \n",
       "4    1BadDayAway    4889    1BadDayAway\n",
       "Name: Author, dtype: object  asktrp "
      ]
     },
     "execution_count": 52,
     "metadata": {},
     "output_type": "execute_result"
    }
   ],
   "source": [
    "asktrp = pd.read_csv('./Comments-Data/asktrp_Comments.csv')\n",
    "asktrp = asktrp[asktrp.Author != '[deleted]']\n",
    "asktrp_au = pd.DataFrame(asktrp.groupby('Author')['Author'])\n",
    "asktrp_au['sub'] = 'asktrp '\n",
    "asktrp_au.head()"
   ]
  },
  {
   "cell_type": "code",
   "execution_count": 7,
   "metadata": {},
   "outputs": [
    {
     "data": {
      "text/html": [
       "<div>\n",
       "<style scoped>\n",
       "    .dataframe tbody tr th:only-of-type {\n",
       "        vertical-align: middle;\n",
       "    }\n",
       "\n",
       "    .dataframe tbody tr th {\n",
       "        vertical-align: top;\n",
       "    }\n",
       "\n",
       "    .dataframe thead th {\n",
       "        text-align: right;\n",
       "    }\n",
       "</style>\n",
       "<table border=\"1\" class=\"dataframe\">\n",
       "  <thead>\n",
       "    <tr style=\"text-align: right;\">\n",
       "      <th></th>\n",
       "      <th>Score</th>\n",
       "      <th>sub</th>\n",
       "    </tr>\n",
       "    <tr>\n",
       "      <th>Author</th>\n",
       "      <th></th>\n",
       "      <th></th>\n",
       "    </tr>\n",
       "  </thead>\n",
       "  <tbody>\n",
       "    <tr>\n",
       "      <th>-ATLAS-_</th>\n",
       "      <td>2</td>\n",
       "      <td>becomeaman</td>\n",
       "    </tr>\n",
       "    <tr>\n",
       "      <th>-Lupe</th>\n",
       "      <td>2</td>\n",
       "      <td>becomeaman</td>\n",
       "    </tr>\n",
       "    <tr>\n",
       "      <th>-MAurelius-</th>\n",
       "      <td>19</td>\n",
       "      <td>becomeaman</td>\n",
       "    </tr>\n",
       "    <tr>\n",
       "      <th>-SoItGoes</th>\n",
       "      <td>-1</td>\n",
       "      <td>becomeaman</td>\n",
       "    </tr>\n",
       "    <tr>\n",
       "      <th>-Steak-</th>\n",
       "      <td>1</td>\n",
       "      <td>becomeaman</td>\n",
       "    </tr>\n",
       "  </tbody>\n",
       "</table>\n",
       "</div>"
      ],
      "text/plain": [
       "             Score          sub\n",
       "Author                         \n",
       "-ATLAS-_         2  becomeaman \n",
       "-Lupe            2  becomeaman \n",
       "-MAurelius-     19  becomeaman \n",
       "-SoItGoes       -1  becomeaman \n",
       "-Steak-          1  becomeaman "
      ]
     },
     "execution_count": 7,
     "metadata": {},
     "output_type": "execute_result"
    }
   ],
   "source": [
    "becomeaman = pd.read_csv('./Comments-Data/becomeaman_Comments.csv')\n",
    "becomeaman = becomeaman[becomeaman.Author != '[deleted]']\n",
    "becomeaman_au = pd.DataFrame(becomeaman.groupby('Author')['Score'].sum())\n",
    "becomeaman_au['sub'] = 'becomeaman '\n",
    "becomeaman_au.head()"
   ]
  },
  {
   "cell_type": "code",
   "execution_count": 8,
   "metadata": {},
   "outputs": [],
   "source": [
    "G.add_node('RPWomen')"
   ]
  },
  {
   "cell_type": "code",
   "execution_count": 9,
   "metadata": {},
   "outputs": [],
   "source": [
    "G.add_nodes_from([2, 3])"
   ]
  },
  {
   "cell_type": "code",
   "execution_count": 10,
   "metadata": {},
   "outputs": [],
   "source": [
    "H = nx.path_graph(10)\n",
    ">>> G.add_nodes_from(H)"
   ]
  },
  {
   "cell_type": "code",
   "execution_count": 11,
   "metadata": {},
   "outputs": [],
   "source": [
    "G.add_edge(1, 2)"
   ]
  },
  {
   "cell_type": "code",
   "execution_count": 12,
   "metadata": {},
   "outputs": [],
   "source": [
    "e = (2, 3)"
   ]
  },
  {
   "cell_type": "code",
   "execution_count": 13,
   "metadata": {},
   "outputs": [],
   "source": [
    "G.add_edge(*e)"
   ]
  },
  {
   "cell_type": "code",
   "execution_count": null,
   "metadata": {},
   "outputs": [],
   "source": []
  },
  {
   "cell_type": "code",
   "execution_count": 14,
   "metadata": {},
   "outputs": [
    {
     "data": {
      "text/html": [
       "<div>\n",
       "<style scoped>\n",
       "    .dataframe tbody tr th:only-of-type {\n",
       "        vertical-align: middle;\n",
       "    }\n",
       "\n",
       "    .dataframe tbody tr th {\n",
       "        vertical-align: top;\n",
       "    }\n",
       "\n",
       "    .dataframe thead th {\n",
       "        text-align: right;\n",
       "    }\n",
       "</style>\n",
       "<table border=\"1\" class=\"dataframe\">\n",
       "  <thead>\n",
       "    <tr style=\"text-align: right;\">\n",
       "      <th></th>\n",
       "      <th>Score</th>\n",
       "      <th>sub</th>\n",
       "    </tr>\n",
       "    <tr>\n",
       "      <th>Author</th>\n",
       "      <th></th>\n",
       "      <th></th>\n",
       "    </tr>\n",
       "  </thead>\n",
       "  <tbody>\n",
       "    <tr>\n",
       "      <th>zayelion</th>\n",
       "      <td>5</td>\n",
       "      <td>asktrp</td>\n",
       "    </tr>\n",
       "    <tr>\n",
       "      <th>zealouz</th>\n",
       "      <td>2</td>\n",
       "      <td>asktrp</td>\n",
       "    </tr>\n",
       "    <tr>\n",
       "      <th>zesto_is_besto</th>\n",
       "      <td>1</td>\n",
       "      <td>asktrp</td>\n",
       "    </tr>\n",
       "    <tr>\n",
       "      <th>zndas92</th>\n",
       "      <td>72</td>\n",
       "      <td>asktrp</td>\n",
       "    </tr>\n",
       "    <tr>\n",
       "      <th>zyk0s</th>\n",
       "      <td>4</td>\n",
       "      <td>asktrp</td>\n",
       "    </tr>\n",
       "  </tbody>\n",
       "</table>\n",
       "</div>"
      ],
      "text/plain": [
       "                Score      sub\n",
       "Author                        \n",
       "zayelion            5  asktrp \n",
       "zealouz             2  asktrp \n",
       "zesto_is_besto      1  asktrp \n",
       "zndas92            72  asktrp \n",
       "zyk0s               4  asktrp "
      ]
     },
     "execution_count": 14,
     "metadata": {},
     "output_type": "execute_result"
    }
   ],
   "source": [
    "all_subs_au = pd.concat([becomeaman_au, RPwomen_au, TRP_au, asktrp_au], sort=True)\n",
    "all_subs_au.tail()"
   ]
  },
  {
   "cell_type": "code",
   "execution_count": 15,
   "metadata": {},
   "outputs": [],
   "source": [
    "relation = pd.DataFrame(all_subs_au.groupby('Author')['sub'].sum())"
   ]
  },
  {
   "cell_type": "code",
   "execution_count": 16,
   "metadata": {},
   "outputs": [
    {
     "data": {
      "text/html": [
       "<div>\n",
       "<style scoped>\n",
       "    .dataframe tbody tr th:only-of-type {\n",
       "        vertical-align: middle;\n",
       "    }\n",
       "\n",
       "    .dataframe tbody tr th {\n",
       "        vertical-align: top;\n",
       "    }\n",
       "\n",
       "    .dataframe thead th {\n",
       "        text-align: right;\n",
       "    }\n",
       "</style>\n",
       "<table border=\"1\" class=\"dataframe\">\n",
       "  <thead>\n",
       "    <tr style=\"text-align: right;\">\n",
       "      <th></th>\n",
       "      <th>sub</th>\n",
       "    </tr>\n",
       "    <tr>\n",
       "      <th>Author</th>\n",
       "      <th></th>\n",
       "    </tr>\n",
       "  </thead>\n",
       "  <tbody>\n",
       "    <tr>\n",
       "      <th>-ATLAS-_</th>\n",
       "      <td>becomeaman</td>\n",
       "    </tr>\n",
       "    <tr>\n",
       "      <th>-HeartOfDark-</th>\n",
       "      <td>asktrp</td>\n",
       "    </tr>\n",
       "    <tr>\n",
       "      <th>-Lupe</th>\n",
       "      <td>becomeaman</td>\n",
       "    </tr>\n",
       "    <tr>\n",
       "      <th>-MAurelius-</th>\n",
       "      <td>becomeaman</td>\n",
       "    </tr>\n",
       "    <tr>\n",
       "      <th>-SoItGoes</th>\n",
       "      <td>becomeaman RPwomen</td>\n",
       "    </tr>\n",
       "  </tbody>\n",
       "</table>\n",
       "</div>"
      ],
      "text/plain": [
       "                               sub\n",
       "Author                            \n",
       "-ATLAS-_               becomeaman \n",
       "-HeartOfDark-              asktrp \n",
       "-Lupe                  becomeaman \n",
       "-MAurelius-            becomeaman \n",
       "-SoItGoes      becomeaman RPwomen "
      ]
     },
     "execution_count": 16,
     "metadata": {},
     "output_type": "execute_result"
    }
   ],
   "source": [
    "relation.head()"
   ]
  },
  {
   "cell_type": "code",
   "execution_count": 17,
   "metadata": {},
   "outputs": [],
   "source": [
    "R = nx.Graph()"
   ]
  },
  {
   "cell_type": "code",
   "execution_count": 18,
   "metadata": {},
   "outputs": [],
   "source": [
    "R.add_nodes_from(['becomeaman', 'RPwomen', 'TRP', 'asktrp'])"
   ]
  },
  {
   "cell_type": "code",
   "execution_count": 19,
   "metadata": {},
   "outputs": [
    {
     "data": {
      "text/plain": [
       "NodeView(('becomeaman', 'RPwomen', 'TRP', 'asktrp'))"
      ]
     },
     "execution_count": 19,
     "metadata": {},
     "output_type": "execute_result"
    }
   ],
   "source": [
    "R.nodes"
   ]
  },
  {
   "cell_type": "code",
   "execution_count": 36,
   "metadata": {},
   "outputs": [],
   "source": [
    "def new_edges(t):\n",
    "    edges = []\n",
    "    for i in range(len(t)):\n",
    "        for j in range(i+1, len(t)):\n",
    "            edges.append((t[i], t[j], 1))\n",
    "    return edges"
   ]
  },
  {
   "cell_type": "code",
   "execution_count": 37,
   "metadata": {},
   "outputs": [],
   "source": [
    "def add_weigths(t, Gr):\n",
    "    edges = []\n",
    "    for i in range(len(t)):\n",
    "        for j in range(i+1, len(t)):\n",
    "            Gr.edges[t[i], t[j]]['weight'] += 1"
   ]
  },
  {
   "cell_type": "code",
   "execution_count": 38,
   "metadata": {},
   "outputs": [],
   "source": [
    "for Author in relation['sub']:\n",
    "    sub = Author.split()\n",
    "    if len(sub) > 1:\n",
    "        R.add_weighted_edges_from(new_edges(sub))"
   ]
  },
  {
   "cell_type": "code",
   "execution_count": 39,
   "metadata": {},
   "outputs": [],
   "source": [
    "c = R.edges['RPwomen', 'becomeaman']['weight']"
   ]
  },
  {
   "cell_type": "code",
   "execution_count": 40,
   "metadata": {},
   "outputs": [],
   "source": [
    "for Author in relation['sub']:\n",
    "    sub = Author.split()\n",
    "    if len(sub) > 1:\n",
    "        add_weigths(sub, R)"
   ]
  },
  {
   "cell_type": "code",
   "execution_count": 41,
   "metadata": {},
   "outputs": [
    {
     "data": {
      "text/plain": [
       "EdgeView([('becomeaman', 'RPwomen'), ('becomeaman', 'asktrp'), ('becomeaman', 'TRP'), ('RPwomen', 'asktrp'), ('RPwomen', 'TRP'), ('TRP', 'asktrp')])"
      ]
     },
     "execution_count": 41,
     "metadata": {},
     "output_type": "execute_result"
    }
   ],
   "source": [
    "R.edges"
   ]
  },
  {
   "cell_type": "code",
   "execution_count": 50,
   "metadata": {},
   "outputs": [
    {
     "data": {
      "text/plain": [
       "{'weight': 17}"
      ]
     },
     "execution_count": 50,
     "metadata": {},
     "output_type": "execute_result"
    }
   ],
   "source": [
    "R.edges['RPwomen', 'TRP']"
   ]
  },
  {
   "cell_type": "code",
   "execution_count": 45,
   "metadata": {},
   "outputs": [],
   "source": [
    "import matplotlib.pyplot as plt"
   ]
  },
  {
   "cell_type": "code",
   "execution_count": 46,
   "metadata": {},
   "outputs": [],
   "source": [
    "%matplotlib inline"
   ]
  },
  {
   "cell_type": "code",
   "execution_count": 47,
   "metadata": {},
   "outputs": [
    {
     "data": {
      "image/png": "[encoded data removed]",
      "text/plain": [
       "<Figure size 432x288 with 1 Axes>"
      ]
     },
     "metadata": {},
     "output_type": "display_data"
    }
   ],
   "source": [
    "nx.draw(G, with_labels=True, font_weight='bold')"
   ]
  },
  {
   "cell_type": "code",
   "execution_count": null,
   "metadata": {},
   "outputs": [],
   "source": []
  }
 ],
 "metadata": {
  "kernelspec": {
   "display_name": "Python 3",
   "language": "python",
   "name": "python3"
  },
  "language_info": {
   "codemirror_mode": {
    "name": "ipython",
    "version": 3
   },
   "file_extension": ".py",
   "mimetype": "text/x-python",
   "name": "python",
   "nbconvert_exporter": "python",
   "pygments_lexer": "ipython3",
   "version": "3.7.1"
  }
 },
 "nbformat": 4,
 "nbformat_minor": 2
}
