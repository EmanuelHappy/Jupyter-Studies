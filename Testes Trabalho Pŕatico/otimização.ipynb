{
 "cells": [
  {
   "cell_type": "code",
   "execution_count": 1,
   "metadata": {},
   "outputs": [],
   "source": [
    "%matplotlib inline\n",
    "import matplotlib.pyplot as plt\n",
    "import seaborn as sns\n",
    "import pandas as pd\n",
    "import numpy as np\n",
    "from textblob import TextBlob\n",
    "from empath import Empath\n",
    "lexicon = Empath()"
   ]
  },
  {
   "cell_type": "code",
   "execution_count": 2,
   "metadata": {},
   "outputs": [],
   "source": [
    "exredpill = pd.read_csv('Comments-Data/exredpill_Comments.csv')"
   ]
  },
  {
   "cell_type": "code",
   "execution_count": 3,
   "metadata": {},
   "outputs": [
    {
     "data": {
      "text/html": [
       "<div>\n",
       "<style scoped>\n",
       "    .dataframe tbody tr th:only-of-type {\n",
       "        vertical-align: middle;\n",
       "    }\n",
       "\n",
       "    .dataframe tbody tr th {\n",
       "        vertical-align: top;\n",
       "    }\n",
       "\n",
       "    .dataframe thead th {\n",
       "        text-align: right;\n",
       "    }\n",
       "</style>\n",
       "<table border=\"1\" class=\"dataframe\">\n",
       "  <thead>\n",
       "    <tr style=\"text-align: right;\">\n",
       "      <th></th>\n",
       "      <th>ID</th>\n",
       "      <th>Comment</th>\n",
       "      <th>Author</th>\n",
       "      <th>Score</th>\n",
       "      <th>Parent id</th>\n",
       "      <th>Publish Date</th>\n",
       "    </tr>\n",
       "  </thead>\n",
       "  <tbody>\n",
       "    <tr>\n",
       "      <th>0</th>\n",
       "      <td>chi1gnk</td>\n",
       "      <td>Did many other people at your school/college d...</td>\n",
       "      <td>accacaaccaca</td>\n",
       "      <td>4</td>\n",
       "      <td>t3_25kd9o</td>\n",
       "      <td>2014-05-14 17:36:05</td>\n",
       "    </tr>\n",
       "    <tr>\n",
       "      <th>1</th>\n",
       "      <td>chi6vf2</td>\n",
       "      <td>[deleted]</td>\n",
       "      <td>[deleted]</td>\n",
       "      <td>2</td>\n",
       "      <td>t3_25kd9o</td>\n",
       "      <td>2014-05-14 20:44:56</td>\n",
       "    </tr>\n",
       "    <tr>\n",
       "      <th>2</th>\n",
       "      <td>chi9org</td>\n",
       "      <td>Seconding this. What do you think it would tak...</td>\n",
       "      <td>laskuraska</td>\n",
       "      <td>2</td>\n",
       "      <td>t1_chi6vf2</td>\n",
       "      <td>2014-05-14 22:31:07</td>\n",
       "    </tr>\n",
       "    <tr>\n",
       "      <th>3</th>\n",
       "      <td>chibx7j</td>\n",
       "      <td>Personally, I think the best way redpillers co...</td>\n",
       "      <td>[deleted]</td>\n",
       "      <td>3</td>\n",
       "      <td>t1_chi6vf2</td>\n",
       "      <td>2014-05-14 23:53:34</td>\n",
       "    </tr>\n",
       "    <tr>\n",
       "      <th>4</th>\n",
       "      <td>chic1kd</td>\n",
       "      <td>[deleted]</td>\n",
       "      <td>[deleted]</td>\n",
       "      <td>1</td>\n",
       "      <td>t1_chibx7j</td>\n",
       "      <td>2014-05-14 23:58:24</td>\n",
       "    </tr>\n",
       "  </tbody>\n",
       "</table>\n",
       "</div>"
      ],
      "text/plain": [
       "        ID                                            Comment        Author  \\\n",
       "0  chi1gnk  Did many other people at your school/college d...  accacaaccaca   \n",
       "1  chi6vf2                                          [deleted]     [deleted]   \n",
       "2  chi9org  Seconding this. What do you think it would tak...    laskuraska   \n",
       "3  chibx7j  Personally, I think the best way redpillers co...     [deleted]   \n",
       "4  chic1kd                                          [deleted]     [deleted]   \n",
       "\n",
       "   Score   Parent id         Publish Date  \n",
       "0      4   t3_25kd9o  2014-05-14 17:36:05  \n",
       "1      2   t3_25kd9o  2014-05-14 20:44:56  \n",
       "2      2  t1_chi6vf2  2014-05-14 22:31:07  \n",
       "3      3  t1_chi6vf2  2014-05-14 23:53:34  \n",
       "4      1  t1_chibx7j  2014-05-14 23:58:24  "
      ]
     },
     "execution_count": 3,
     "metadata": {},
     "output_type": "execute_result"
    }
   ],
   "source": [
    "exredpill.head()"
   ]
  },
  {
   "cell_type": "code",
   "execution_count": 4,
   "metadata": {},
   "outputs": [
    {
     "data": {
      "text/plain": [
       "numpy.str_"
      ]
     },
     "execution_count": 4,
     "metadata": {},
     "output_type": "execute_result"
    }
   ],
   "source": [
    "comment = np.array(exredpill['Comment'], dtype='U500')\n",
    "type(comment[10])"
   ]
  },
  {
   "cell_type": "code",
   "execution_count": 5,
   "metadata": {},
   "outputs": [],
   "source": [
    "sentiment = []\n",
    "value = np.array([], dtype=float)"
   ]
  },
  {
   "cell_type": "code",
   "execution_count": 6,
   "metadata": {},
   "outputs": [],
   "source": [
    "value = [TextBlob(item).sentiment[0] for item in comment]"
   ]
  },
  {
   "cell_type": "code",
   "execution_count": 7,
   "metadata": {},
   "outputs": [],
   "source": [
    "exredpill['polarity'] = value"
   ]
  },
  {
   "cell_type": "code",
   "execution_count": 8,
   "metadata": {},
   "outputs": [
    {
     "data": {
      "text/html": [
       "<div>\n",
       "<style scoped>\n",
       "    .dataframe tbody tr th:only-of-type {\n",
       "        vertical-align: middle;\n",
       "    }\n",
       "\n",
       "    .dataframe tbody tr th {\n",
       "        vertical-align: top;\n",
       "    }\n",
       "\n",
       "    .dataframe thead th {\n",
       "        text-align: right;\n",
       "    }\n",
       "</style>\n",
       "<table border=\"1\" class=\"dataframe\">\n",
       "  <thead>\n",
       "    <tr style=\"text-align: right;\">\n",
       "      <th></th>\n",
       "      <th>ID</th>\n",
       "      <th>Comment</th>\n",
       "      <th>Author</th>\n",
       "      <th>Score</th>\n",
       "      <th>Parent id</th>\n",
       "      <th>Publish Date</th>\n",
       "      <th>polarity</th>\n",
       "    </tr>\n",
       "  </thead>\n",
       "  <tbody>\n",
       "    <tr>\n",
       "      <th>0</th>\n",
       "      <td>chi1gnk</td>\n",
       "      <td>Did many other people at your school/college d...</td>\n",
       "      <td>accacaaccaca</td>\n",
       "      <td>4</td>\n",
       "      <td>t3_25kd9o</td>\n",
       "      <td>2014-05-14 17:36:05</td>\n",
       "      <td>0.093750</td>\n",
       "    </tr>\n",
       "    <tr>\n",
       "      <th>1</th>\n",
       "      <td>chi6vf2</td>\n",
       "      <td>[deleted]</td>\n",
       "      <td>[deleted]</td>\n",
       "      <td>2</td>\n",
       "      <td>t3_25kd9o</td>\n",
       "      <td>2014-05-14 20:44:56</td>\n",
       "      <td>0.000000</td>\n",
       "    </tr>\n",
       "    <tr>\n",
       "      <th>2</th>\n",
       "      <td>chi9org</td>\n",
       "      <td>Seconding this. What do you think it would tak...</td>\n",
       "      <td>laskuraska</td>\n",
       "      <td>2</td>\n",
       "      <td>t1_chi6vf2</td>\n",
       "      <td>2014-05-14 22:31:07</td>\n",
       "      <td>-0.066667</td>\n",
       "    </tr>\n",
       "    <tr>\n",
       "      <th>3</th>\n",
       "      <td>chibx7j</td>\n",
       "      <td>Personally, I think the best way redpillers co...</td>\n",
       "      <td>[deleted]</td>\n",
       "      <td>3</td>\n",
       "      <td>t1_chi6vf2</td>\n",
       "      <td>2014-05-14 23:53:34</td>\n",
       "      <td>0.377778</td>\n",
       "    </tr>\n",
       "    <tr>\n",
       "      <th>4</th>\n",
       "      <td>chic1kd</td>\n",
       "      <td>[deleted]</td>\n",
       "      <td>[deleted]</td>\n",
       "      <td>1</td>\n",
       "      <td>t1_chibx7j</td>\n",
       "      <td>2014-05-14 23:58:24</td>\n",
       "      <td>0.000000</td>\n",
       "    </tr>\n",
       "  </tbody>\n",
       "</table>\n",
       "</div>"
      ],
      "text/plain": [
       "        ID                                            Comment        Author  \\\n",
       "0  chi1gnk  Did many other people at your school/college d...  accacaaccaca   \n",
       "1  chi6vf2                                          [deleted]     [deleted]   \n",
       "2  chi9org  Seconding this. What do you think it would tak...    laskuraska   \n",
       "3  chibx7j  Personally, I think the best way redpillers co...     [deleted]   \n",
       "4  chic1kd                                          [deleted]     [deleted]   \n",
       "\n",
       "   Score   Parent id         Publish Date  polarity  \n",
       "0      4   t3_25kd9o  2014-05-14 17:36:05  0.093750  \n",
       "1      2   t3_25kd9o  2014-05-14 20:44:56  0.000000  \n",
       "2      2  t1_chi6vf2  2014-05-14 22:31:07 -0.066667  \n",
       "3      3  t1_chi6vf2  2014-05-14 23:53:34  0.377778  \n",
       "4      1  t1_chibx7j  2014-05-14 23:58:24  0.000000  "
      ]
     },
     "execution_count": 8,
     "metadata": {},
     "output_type": "execute_result"
    }
   ],
   "source": [
    "exredpill.head()"
   ]
  },
  {
   "cell_type": "code",
   "execution_count": 9,
   "metadata": {},
   "outputs": [],
   "source": [
    "for comment in exredpill['Comment']:\n",
    "    sentiment.append(TextBlob(comment).sentiment[0])"
   ]
  },
  {
   "cell_type": "code",
   "execution_count": 10,
   "metadata": {},
   "outputs": [],
   "source": [
    "exredpill['polarity2'] = sentiment"
   ]
  },
  {
   "cell_type": "code",
   "execution_count": 11,
   "metadata": {},
   "outputs": [
    {
     "data": {
      "text/html": [
       "<div>\n",
       "<style scoped>\n",
       "    .dataframe tbody tr th:only-of-type {\n",
       "        vertical-align: middle;\n",
       "    }\n",
       "\n",
       "    .dataframe tbody tr th {\n",
       "        vertical-align: top;\n",
       "    }\n",
       "\n",
       "    .dataframe thead th {\n",
       "        text-align: right;\n",
       "    }\n",
       "</style>\n",
       "<table border=\"1\" class=\"dataframe\">\n",
       "  <thead>\n",
       "    <tr style=\"text-align: right;\">\n",
       "      <th></th>\n",
       "      <th>ID</th>\n",
       "      <th>Comment</th>\n",
       "      <th>Author</th>\n",
       "      <th>Score</th>\n",
       "      <th>Parent id</th>\n",
       "      <th>Publish Date</th>\n",
       "      <th>polarity</th>\n",
       "      <th>polarity2</th>\n",
       "    </tr>\n",
       "  </thead>\n",
       "  <tbody>\n",
       "    <tr>\n",
       "      <th>0</th>\n",
       "      <td>chi1gnk</td>\n",
       "      <td>Did many other people at your school/college d...</td>\n",
       "      <td>accacaaccaca</td>\n",
       "      <td>4</td>\n",
       "      <td>t3_25kd9o</td>\n",
       "      <td>2014-05-14 17:36:05</td>\n",
       "      <td>0.093750</td>\n",
       "      <td>0.093750</td>\n",
       "    </tr>\n",
       "    <tr>\n",
       "      <th>1</th>\n",
       "      <td>chi6vf2</td>\n",
       "      <td>[deleted]</td>\n",
       "      <td>[deleted]</td>\n",
       "      <td>2</td>\n",
       "      <td>t3_25kd9o</td>\n",
       "      <td>2014-05-14 20:44:56</td>\n",
       "      <td>0.000000</td>\n",
       "      <td>0.000000</td>\n",
       "    </tr>\n",
       "    <tr>\n",
       "      <th>2</th>\n",
       "      <td>chi9org</td>\n",
       "      <td>Seconding this. What do you think it would tak...</td>\n",
       "      <td>laskuraska</td>\n",
       "      <td>2</td>\n",
       "      <td>t1_chi6vf2</td>\n",
       "      <td>2014-05-14 22:31:07</td>\n",
       "      <td>-0.066667</td>\n",
       "      <td>-0.066667</td>\n",
       "    </tr>\n",
       "    <tr>\n",
       "      <th>3</th>\n",
       "      <td>chibx7j</td>\n",
       "      <td>Personally, I think the best way redpillers co...</td>\n",
       "      <td>[deleted]</td>\n",
       "      <td>3</td>\n",
       "      <td>t1_chi6vf2</td>\n",
       "      <td>2014-05-14 23:53:34</td>\n",
       "      <td>0.377778</td>\n",
       "      <td>0.357500</td>\n",
       "    </tr>\n",
       "    <tr>\n",
       "      <th>4</th>\n",
       "      <td>chic1kd</td>\n",
       "      <td>[deleted]</td>\n",
       "      <td>[deleted]</td>\n",
       "      <td>1</td>\n",
       "      <td>t1_chibx7j</td>\n",
       "      <td>2014-05-14 23:58:24</td>\n",
       "      <td>0.000000</td>\n",
       "      <td>0.000000</td>\n",
       "    </tr>\n",
       "    <tr>\n",
       "      <th>5</th>\n",
       "      <td>chic9k5</td>\n",
       "      <td>Actually, not that many people sent up red fla...</td>\n",
       "      <td>[deleted]</td>\n",
       "      <td>7</td>\n",
       "      <td>t1_chi1gnk</td>\n",
       "      <td>2014-05-15 00:07:10</td>\n",
       "      <td>-0.007386</td>\n",
       "      <td>-0.026091</td>\n",
       "    </tr>\n",
       "    <tr>\n",
       "      <th>6</th>\n",
       "      <td>chie456</td>\n",
       "      <td>&amp;gtUnfortunately, all the pretty girls smoked ...</td>\n",
       "      <td>chinchillazilla54</td>\n",
       "      <td>1</td>\n",
       "      <td>t3_25kd9o</td>\n",
       "      <td>2014-05-15 01:27:10</td>\n",
       "      <td>0.216250</td>\n",
       "      <td>0.216250</td>\n",
       "    </tr>\n",
       "    <tr>\n",
       "      <th>7</th>\n",
       "      <td>chitnhi</td>\n",
       "      <td>[deleted]</td>\n",
       "      <td>[deleted]</td>\n",
       "      <td>-1</td>\n",
       "      <td>t1_chibx7j</td>\n",
       "      <td>2014-05-15 15:34:04</td>\n",
       "      <td>0.000000</td>\n",
       "      <td>0.000000</td>\n",
       "    </tr>\n",
       "    <tr>\n",
       "      <th>8</th>\n",
       "      <td>chiukfp</td>\n",
       "      <td>That's fine. That's just your opinion, but I h...</td>\n",
       "      <td>[deleted]</td>\n",
       "      <td>1</td>\n",
       "      <td>t1_chitnhi</td>\n",
       "      <td>2014-05-15 16:04:42</td>\n",
       "      <td>0.338889</td>\n",
       "      <td>0.338889</td>\n",
       "    </tr>\n",
       "    <tr>\n",
       "      <th>9</th>\n",
       "      <td>chium4u</td>\n",
       "      <td>Whenever there is a blue pill example, like cl...</td>\n",
       "      <td>absolutebeginners</td>\n",
       "      <td>6</td>\n",
       "      <td>t1_chitnhi</td>\n",
       "      <td>2014-05-15 16:06:21</td>\n",
       "      <td>-0.250000</td>\n",
       "      <td>-0.250000</td>\n",
       "    </tr>\n",
       "  </tbody>\n",
       "</table>\n",
       "</div>"
      ],
      "text/plain": [
       "        ID                                            Comment  \\\n",
       "0  chi1gnk  Did many other people at your school/college d...   \n",
       "1  chi6vf2                                          [deleted]   \n",
       "2  chi9org  Seconding this. What do you think it would tak...   \n",
       "3  chibx7j  Personally, I think the best way redpillers co...   \n",
       "4  chic1kd                                          [deleted]   \n",
       "5  chic9k5  Actually, not that many people sent up red fla...   \n",
       "6  chie456  &gtUnfortunately, all the pretty girls smoked ...   \n",
       "7  chitnhi                                          [deleted]   \n",
       "8  chiukfp  That's fine. That's just your opinion, but I h...   \n",
       "9  chium4u  Whenever there is a blue pill example, like cl...   \n",
       "\n",
       "              Author  Score   Parent id         Publish Date  polarity  \\\n",
       "0       accacaaccaca      4   t3_25kd9o  2014-05-14 17:36:05  0.093750   \n",
       "1          [deleted]      2   t3_25kd9o  2014-05-14 20:44:56  0.000000   \n",
       "2         laskuraska      2  t1_chi6vf2  2014-05-14 22:31:07 -0.066667   \n",
       "3          [deleted]      3  t1_chi6vf2  2014-05-14 23:53:34  0.377778   \n",
       "4          [deleted]      1  t1_chibx7j  2014-05-14 23:58:24  0.000000   \n",
       "5          [deleted]      7  t1_chi1gnk  2014-05-15 00:07:10 -0.007386   \n",
       "6  chinchillazilla54      1   t3_25kd9o  2014-05-15 01:27:10  0.216250   \n",
       "7          [deleted]     -1  t1_chibx7j  2014-05-15 15:34:04  0.000000   \n",
       "8          [deleted]      1  t1_chitnhi  2014-05-15 16:04:42  0.338889   \n",
       "9  absolutebeginners      6  t1_chitnhi  2014-05-15 16:06:21 -0.250000   \n",
       "\n",
       "   polarity2  \n",
       "0   0.093750  \n",
       "1   0.000000  \n",
       "2  -0.066667  \n",
       "3   0.357500  \n",
       "4   0.000000  \n",
       "5  -0.026091  \n",
       "6   0.216250  \n",
       "7   0.000000  \n",
       "8   0.338889  \n",
       "9  -0.250000  "
      ]
     },
     "execution_count": 11,
     "metadata": {},
     "output_type": "execute_result"
    }
   ],
   "source": [
    "exredpill.head(10)"
   ]
  },
  {
   "cell_type": "code",
   "execution_count": 29,
   "metadata": {},
   "outputs": [
    {
     "data": {
      "text/plain": [
       "dict_values([0.0, 0.0, 0.0, 1.0, 0.0, 0.0, 0.0, 0.0, 0.0, 0.0, 0.0, 0.0, 0.0, 0.0, 0.0, 0.0, 0.0, 0.0, 0.0, 0.0, 0.0, 0.0, 0.0, 0.0, 0.0, 0.0, 0.0, 0.0, 0.0, 0.0, 0.0, 0.0, 0.0, 0.0, 0.0, 0.0, 0.0, 1.0, 0.0, 0.0, 0.0, 0.0, 1.0, 0.0, 0.0, 0.0, 0.0, 0.0, 0.0, 0.0, 0.0, 0.0, 0.0, 0.0, 0.0, 0.0, 0.0, 0.0, 0.0, 0.0, 0.0, 0.0, 0.0, 0.0, 0.0, 0.0, 0.0, 0.0, 0.0, 0.0, 0.0, 0.0, 1.0, 0.0, 0.0, 0.0, 0.0, 0.0, 0.0, 0.0, 0.0, 1.0, 0.0, 0.0, 0.0, 0.0, 0.0, 0.0, 0.0, 0.0, 0.0, 0.0, 0.0, 0.0, 1.0, 0.0, 0.0, 0.0, 0.0, 0.0, 0.0, 0.0, 0.0, 0.0, 0.0, 0.0, 0.0, 0.0, 0.0, 0.0, 0.0, 0.0, 0.0, 0.0, 0.0, 0.0, 0.0, 0.0, 0.0, 0.0, 0.0, 0.0, 0.0, 0.0, 0.0, 0.0, 0.0, 0.0, 0.0, 0.0, 0.0, 0.0, 0.0, 0.0, 2.0, 0.0, 0.0, 0.0, 0.0, 0.0, 0.0, 0.0, 0.0, 0.0, 0.0, 0.0, 0.0, 0.0, 0.0, 0.0, 0.0, 0.0, 0.0, 0.0, 0.0, 0.0, 0.0, 0.0, 0.0, 0.0, 0.0, 0.0, 0.0, 0.0, 0.0, 0.0, 0.0, 0.0, 0.0, 0.0, 0.0, 0.0, 0.0, 0.0, 0.0, 0.0, 0.0, 0.0, 0.0, 0.0, 0.0, 0.0, 0.0, 0.0, 0.0, 0.0, 0.0, 1.0, 0.0, 0.0, 0.0, 0.0, 0.0, 0.0])"
      ]
     },
     "execution_count": 29,
     "metadata": {},
     "output_type": "execute_result"
    }
   ],
   "source": [
    "lexicon.analyze(exredpill['Comment'][0]).values()\n"
   ]
  },
  {
   "cell_type": "code",
   "execution_count": 47,
   "metadata": {},
   "outputs": [
    {
     "data": {
      "text/plain": [
       "array([0., 0., 0., 0., 0., 0., 0., 0., 0., 0., 0., 0., 0., 0., 0., 0., 0.,\n",
       "       0., 0., 0., 0., 0., 0., 0., 0., 0., 0., 0., 0., 0., 0., 0., 0., 0.,\n",
       "       0., 0., 0., 0., 0., 0., 0., 0., 0., 0., 0., 0., 0., 0., 0., 0., 0.,\n",
       "       0., 0., 0., 0., 0., 0., 0., 0., 0., 0., 0., 0., 0., 0., 0., 0., 0.,\n",
       "       0., 0., 0., 0., 0., 0., 0., 0., 0., 0., 0., 0., 0., 0., 0., 0., 0.,\n",
       "       0., 0., 0., 0., 0., 0., 0., 0., 0., 0., 0., 0., 0., 0., 0., 0., 0.,\n",
       "       0., 0., 0., 0., 0., 0., 0., 0., 0., 0., 0., 0., 0., 0., 0., 0., 0.,\n",
       "       0., 0., 0., 0., 0., 0., 0., 0., 0., 0., 0., 0., 0., 0., 0., 0., 0.,\n",
       "       0., 0., 0., 0., 0., 0., 0., 0., 0., 0., 0., 0., 0., 0., 0., 0., 0.,\n",
       "       0., 0., 0., 0., 0., 0., 0., 0., 0., 0., 0., 0., 0., 0., 0., 0., 0.,\n",
       "       0., 0., 0., 0., 0., 0., 0., 0., 0., 0., 0., 0., 0., 0., 0., 0., 0.,\n",
       "       0., 0., 0., 0., 0., 0., 0.])"
      ]
     },
     "execution_count": 47,
     "metadata": {},
     "output_type": "execute_result"
    }
   ],
   "source": [
    "y = np.zeros(len(lexicon.analyze(exredpill['Comment'][0]).values()))\n",
    "y\n"
   ]
  },
  {
   "cell_type": "code",
   "execution_count": 55,
   "metadata": {},
   "outputs": [
    {
     "data": {
      "text/plain": [
       "array([0., 0., 0., 1., 0., 0., 0., 0., 0., 0., 0., 0., 0., 0., 0., 0., 0.,\n",
       "       0., 0., 0., 0., 0., 0., 0., 0., 0., 0., 0., 0., 0., 0., 0., 0., 0.,\n",
       "       0., 0., 0., 1., 0., 0., 0., 0., 1., 0., 0., 0., 0., 0., 0., 0., 0.,\n",
       "       0., 0., 0., 0., 0., 0., 0., 0., 0., 0., 0., 0., 0., 0., 0., 0., 0.,\n",
       "       0., 0., 0., 0., 1., 0., 0., 0., 0., 0., 0., 0., 0., 1., 0., 0., 0.,\n",
       "       0., 0., 0., 0., 0., 0., 0., 0., 0., 1., 0., 0., 0., 0., 0., 0., 0.,\n",
       "       0., 0., 0., 0., 0., 0., 0., 0., 0., 0., 0., 0., 0., 0., 0., 0., 0.,\n",
       "       0., 0., 0., 0., 0., 0., 0., 0., 0., 0., 0., 0., 0., 0., 0., 2., 0.,\n",
       "       0., 0., 0., 0., 0., 0., 0., 0., 0., 0., 0., 0., 0., 0., 0., 0., 0.,\n",
       "       0., 0., 0., 0., 0., 0., 0., 0., 0., 0., 0., 0., 0., 0., 0., 0., 0.,\n",
       "       0., 0., 0., 0., 0., 0., 0., 0., 0., 0., 0., 0., 0., 0., 0., 0., 0.,\n",
       "       1., 0., 0., 0., 0., 0., 0.])"
      ]
     },
     "execution_count": 55,
     "metadata": {},
     "output_type": "execute_result"
    }
   ],
   "source": [
    "z =  np.array(list(lexicon.analyze(exredpill['Comment'][0]).values()))\n",
    "z"
   ]
  },
  {
   "cell_type": "code",
   "execution_count": null,
   "metadata": {},
   "outputs": [],
   "source": []
  },
  {
   "cell_type": "code",
   "execution_count": 89,
   "metadata": {},
   "outputs": [
    {
     "name": "stdout",
     "output_type": "stream",
     "text": [
      "CPU times: user 5.62 s, sys: 0 ns, total: 5.62 s\n",
      "Wall time: 5.62 s\n"
     ]
    }
   ],
   "source": [
    "%%time\n",
    "y = np.zeros(len(lexicon.analyze(exredpill['Comment'][0]).values()))\n",
    "for comment in exredpill['Comment'][:800]:\n",
    "    y = np.add(y, np.array(list(lexicon.analyze(comment).values())))"
   ]
  },
  {
   "cell_type": "code",
   "execution_count": 90,
   "metadata": {},
   "outputs": [
    {
     "name": "stdout",
     "output_type": "stream",
     "text": [
      "CPU times: user 5.78 s, sys: 35 µs, total: 5.78 s\n",
      "Wall time: 5.82 s\n"
     ]
    }
   ],
   "source": [
    "%%time\n",
    "analyze = lexicon.analyze(exredpill['Comment'][0])\n",
    "analyze_series = pd.Series(analyze)\n",
    "\n",
    "for comment in exredpill['Comment'][:800]:\n",
    "    analyze_series += pd.Series(lexicon.analyze(str(comment)))"
   ]
  },
  {
   "cell_type": "code",
   "execution_count": null,
   "metadata": {},
   "outputs": [],
   "source": []
  }
 ],
 "metadata": {
  "kernelspec": {
   "display_name": "Python 3",
   "language": "python",
   "name": "python3"
  },
  "language_info": {
   "codemirror_mode": {
    "name": "ipython",
    "version": 3
   },
   "file_extension": ".py",
   "mimetype": "text/x-python",
   "name": "python",
   "nbconvert_exporter": "python",
   "pygments_lexer": "ipython3",
   "version": "3.7.1"
  }
 },
 "nbformat": 4,
 "nbformat_minor": 2
}
