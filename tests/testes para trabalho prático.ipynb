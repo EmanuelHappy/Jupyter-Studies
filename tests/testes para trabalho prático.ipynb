{
 "cells": [
  {
   "cell_type": "code",
   "execution_count": 1,
   "metadata": {},
   "outputs": [],
   "source": [
    "%matplotlib inline\n",
    "import matplotlib.pyplot as plt\n",
    "import seaborn as sns\n",
    "import pandas as pd\n",
    "import numpy as np"
   ]
  },
  {
   "cell_type": "code",
   "execution_count": 2,
   "metadata": {},
   "outputs": [],
   "source": [
    "import string"
   ]
  },
  {
   "cell_type": "code",
   "execution_count": 3,
   "metadata": {},
   "outputs": [],
   "source": [
    "MGTOW = pd.read_csv('Comments-Data/MGTOW_Comments.csv')"
   ]
  },
  {
   "cell_type": "code",
   "execution_count": 4,
   "metadata": {},
   "outputs": [],
   "source": [
    "Comment = MGTOW['Comment']"
   ]
  },
  {
   "cell_type": "code",
   "execution_count": 5,
   "metadata": {
    "scrolled": false
   },
   "outputs": [],
   "source": [
    "def process_comment_df(df):\n",
    "    hist = dict()\n",
    "    for line in df:\n",
    "        process_line(line, hist)\n",
    "    return hist"
   ]
  },
  {
   "cell_type": "code",
   "execution_count": 6,
   "metadata": {},
   "outputs": [],
   "source": [
    "def process_line(line, hist):\n",
    "    line = line.replace('-', ' ')\n",
    "    for word in line.split():\n",
    "        word = word.strip(string.punctuation + string.whitespace + '..“/:”`´\"')\n",
    "        word = word.lower()\n",
    "        hist[word] = hist.get(word, 0) + 1"
   ]
  },
  {
   "cell_type": "code",
   "execution_count": 7,
   "metadata": {},
   "outputs": [],
   "source": [
    "hist = process_comment_df(Comment)"
   ]
  },
  {
   "cell_type": "code",
   "execution_count": 8,
   "metadata": {},
   "outputs": [],
   "source": [
    "s = pd.Series(list(hist.values()), index=list(hist.keys()))"
   ]
  },
  {
   "cell_type": "code",
   "execution_count": 9,
   "metadata": {},
   "outputs": [],
   "source": [
    "s = s.sort_values(ascending=False)"
   ]
  },
  {
   "cell_type": "code",
   "execution_count": 10,
   "metadata": {},
   "outputs": [],
   "source": [
    "num = np.arange(len(hist))"
   ]
  },
  {
   "cell_type": "code",
   "execution_count": 11,
   "metadata": {},
   "outputs": [],
   "source": [
    "order_of_words = pd.Series(num, index=s.index)"
   ]
  },
  {
   "cell_type": "code",
   "execution_count": 12,
   "metadata": {},
   "outputs": [],
   "source": [
    "df = pd.DataFrame({'appear':s, 'rank':order_of_words})"
   ]
  },
  {
   "cell_type": "code",
   "execution_count": 13,
   "metadata": {},
   "outputs": [
    {
     "data": {
      "text/html": [
       "<div>\n",
       "<style scoped>\n",
       "    .dataframe tbody tr th:only-of-type {\n",
       "        vertical-align: middle;\n",
       "    }\n",
       "\n",
       "    .dataframe tbody tr th {\n",
       "        vertical-align: top;\n",
       "    }\n",
       "\n",
       "    .dataframe thead th {\n",
       "        text-align: right;\n",
       "    }\n",
       "</style>\n",
       "<table border=\"1\" class=\"dataframe\">\n",
       "  <thead>\n",
       "    <tr style=\"text-align: right;\">\n",
       "      <th></th>\n",
       "      <th>appear</th>\n",
       "      <th>rank</th>\n",
       "    </tr>\n",
       "  </thead>\n",
       "  <tbody>\n",
       "    <tr>\n",
       "      <th>the</th>\n",
       "      <td>1287</td>\n",
       "      <td>0</td>\n",
       "    </tr>\n",
       "    <tr>\n",
       "      <th>to</th>\n",
       "      <td>968</td>\n",
       "      <td>1</td>\n",
       "    </tr>\n",
       "    <tr>\n",
       "      <th>and</th>\n",
       "      <td>877</td>\n",
       "      <td>2</td>\n",
       "    </tr>\n",
       "    <tr>\n",
       "      <th>a</th>\n",
       "      <td>790</td>\n",
       "      <td>3</td>\n",
       "    </tr>\n",
       "    <tr>\n",
       "      <th>of</th>\n",
       "      <td>736</td>\n",
       "      <td>4</td>\n",
       "    </tr>\n",
       "    <tr>\n",
       "      <th>i</th>\n",
       "      <td>506</td>\n",
       "      <td>5</td>\n",
       "    </tr>\n",
       "    <tr>\n",
       "      <th>is</th>\n",
       "      <td>496</td>\n",
       "      <td>6</td>\n",
       "    </tr>\n",
       "    <tr>\n",
       "      <th>that</th>\n",
       "      <td>461</td>\n",
       "      <td>7</td>\n",
       "    </tr>\n",
       "    <tr>\n",
       "      <th>in</th>\n",
       "      <td>434</td>\n",
       "      <td>8</td>\n",
       "    </tr>\n",
       "    <tr>\n",
       "      <th>it</th>\n",
       "      <td>360</td>\n",
       "      <td>9</td>\n",
       "    </tr>\n",
       "    <tr>\n",
       "      <th>you</th>\n",
       "      <td>353</td>\n",
       "      <td>10</td>\n",
       "    </tr>\n",
       "    <tr>\n",
       "      <th>for</th>\n",
       "      <td>290</td>\n",
       "      <td>11</td>\n",
       "    </tr>\n",
       "    <tr>\n",
       "      <th>are</th>\n",
       "      <td>280</td>\n",
       "      <td>12</td>\n",
       "    </tr>\n",
       "    <tr>\n",
       "      <th>with</th>\n",
       "      <td>233</td>\n",
       "      <td>13</td>\n",
       "    </tr>\n",
       "    <tr>\n",
       "      <th>have</th>\n",
       "      <td>232</td>\n",
       "      <td>14</td>\n",
       "    </tr>\n",
       "    <tr>\n",
       "      <th>they</th>\n",
       "      <td>231</td>\n",
       "      <td>15</td>\n",
       "    </tr>\n",
       "    <tr>\n",
       "      <th>not</th>\n",
       "      <td>219</td>\n",
       "      <td>16</td>\n",
       "    </tr>\n",
       "    <tr>\n",
       "      <th>be</th>\n",
       "      <td>217</td>\n",
       "      <td>17</td>\n",
       "    </tr>\n",
       "    <tr>\n",
       "      <th>this</th>\n",
       "      <td>216</td>\n",
       "      <td>18</td>\n",
       "    </tr>\n",
       "    <tr>\n",
       "      <th>as</th>\n",
       "      <td>216</td>\n",
       "      <td>19</td>\n",
       "    </tr>\n",
       "    <tr>\n",
       "      <th>on</th>\n",
       "      <td>187</td>\n",
       "      <td>20</td>\n",
       "    </tr>\n",
       "    <tr>\n",
       "      <th>women</th>\n",
       "      <td>186</td>\n",
       "      <td>21</td>\n",
       "    </tr>\n",
       "    <tr>\n",
       "      <th>men</th>\n",
       "      <td>186</td>\n",
       "      <td>22</td>\n",
       "    </tr>\n",
       "    <tr>\n",
       "      <th>but</th>\n",
       "      <td>179</td>\n",
       "      <td>23</td>\n",
       "    </tr>\n",
       "    <tr>\n",
       "      <th>or</th>\n",
       "      <td>176</td>\n",
       "      <td>24</td>\n",
       "    </tr>\n",
       "    <tr>\n",
       "      <th>my</th>\n",
       "      <td>142</td>\n",
       "      <td>25</td>\n",
       "    </tr>\n",
       "    <tr>\n",
       "      <th>all</th>\n",
       "      <td>138</td>\n",
       "      <td>26</td>\n",
       "    </tr>\n",
       "    <tr>\n",
       "      <th>just</th>\n",
       "      <td>133</td>\n",
       "      <td>27</td>\n",
       "    </tr>\n",
       "    <tr>\n",
       "      <th>get</th>\n",
       "      <td>131</td>\n",
       "      <td>28</td>\n",
       "    </tr>\n",
       "    <tr>\n",
       "      <th>if</th>\n",
       "      <td>129</td>\n",
       "      <td>29</td>\n",
       "    </tr>\n",
       "    <tr>\n",
       "      <th>...</th>\n",
       "      <td>...</td>\n",
       "      <td>...</td>\n",
       "    </tr>\n",
       "    <tr>\n",
       "      <th>vagina</th>\n",
       "      <td>1</td>\n",
       "      <td>5316</td>\n",
       "    </tr>\n",
       "    <tr>\n",
       "      <th>pants</th>\n",
       "      <td>1</td>\n",
       "      <td>5317</td>\n",
       "    </tr>\n",
       "    <tr>\n",
       "      <th>fashionable</th>\n",
       "      <td>1</td>\n",
       "      <td>5318</td>\n",
       "    </tr>\n",
       "    <tr>\n",
       "      <th>determine</th>\n",
       "      <td>1</td>\n",
       "      <td>5319</td>\n",
       "    </tr>\n",
       "    <tr>\n",
       "      <th>presentationally</th>\n",
       "      <td>1</td>\n",
       "      <td>5320</td>\n",
       "    </tr>\n",
       "    <tr>\n",
       "      <th>dicks</th>\n",
       "      <td>1</td>\n",
       "      <td>5321</td>\n",
       "    </tr>\n",
       "    <tr>\n",
       "      <th>brainless</th>\n",
       "      <td>1</td>\n",
       "      <td>5322</td>\n",
       "    </tr>\n",
       "    <tr>\n",
       "      <th>quasi</th>\n",
       "      <td>1</td>\n",
       "      <td>5323</td>\n",
       "    </tr>\n",
       "    <tr>\n",
       "      <th>downward</th>\n",
       "      <td>1</td>\n",
       "      <td>5324</td>\n",
       "    </tr>\n",
       "    <tr>\n",
       "      <th>caving</th>\n",
       "      <td>1</td>\n",
       "      <td>5325</td>\n",
       "    </tr>\n",
       "    <tr>\n",
       "      <th>speaker</th>\n",
       "      <td>1</td>\n",
       "      <td>5326</td>\n",
       "    </tr>\n",
       "    <tr>\n",
       "      <th>illuminating</th>\n",
       "      <td>1</td>\n",
       "      <td>5327</td>\n",
       "    </tr>\n",
       "    <tr>\n",
       "      <th>temporarily</th>\n",
       "      <td>1</td>\n",
       "      <td>5328</td>\n",
       "    </tr>\n",
       "    <tr>\n",
       "      <th>lockstep</th>\n",
       "      <td>1</td>\n",
       "      <td>5329</td>\n",
       "    </tr>\n",
       "    <tr>\n",
       "      <th>striding</th>\n",
       "      <td>1</td>\n",
       "      <td>5330</td>\n",
       "    </tr>\n",
       "    <tr>\n",
       "      <th>rises</th>\n",
       "      <td>1</td>\n",
       "      <td>5331</td>\n",
       "    </tr>\n",
       "    <tr>\n",
       "      <th>dismisses</th>\n",
       "      <td>1</td>\n",
       "      <td>5332</td>\n",
       "    </tr>\n",
       "    <tr>\n",
       "      <th>linger</th>\n",
       "      <td>1</td>\n",
       "      <td>5333</td>\n",
       "    </tr>\n",
       "    <tr>\n",
       "      <th>stays</th>\n",
       "      <td>1</td>\n",
       "      <td>5334</td>\n",
       "    </tr>\n",
       "    <tr>\n",
       "      <th>tasks</th>\n",
       "      <td>1</td>\n",
       "      <td>5335</td>\n",
       "    </tr>\n",
       "    <tr>\n",
       "      <th>finishes</th>\n",
       "      <td>1</td>\n",
       "      <td>5336</td>\n",
       "    </tr>\n",
       "    <tr>\n",
       "      <th>centralized</th>\n",
       "      <td>1</td>\n",
       "      <td>5337</td>\n",
       "    </tr>\n",
       "    <tr>\n",
       "      <th>ears</th>\n",
       "      <td>1</td>\n",
       "      <td>5338</td>\n",
       "    </tr>\n",
       "    <tr>\n",
       "      <th>members</th>\n",
       "      <td>1</td>\n",
       "      <td>5339</td>\n",
       "    </tr>\n",
       "    <tr>\n",
       "      <th>discussions</th>\n",
       "      <td>1</td>\n",
       "      <td>5340</td>\n",
       "    </tr>\n",
       "    <tr>\n",
       "      <th>verbal</th>\n",
       "      <td>1</td>\n",
       "      <td>5341</td>\n",
       "    </tr>\n",
       "    <tr>\n",
       "      <th>giveaway</th>\n",
       "      <td>1</td>\n",
       "      <td>5342</td>\n",
       "    </tr>\n",
       "    <tr>\n",
       "      <th>regain</th>\n",
       "      <td>1</td>\n",
       "      <td>5343</td>\n",
       "    </tr>\n",
       "    <tr>\n",
       "      <th>nose</th>\n",
       "      <td>1</td>\n",
       "      <td>5344</td>\n",
       "    </tr>\n",
       "    <tr>\n",
       "      <th>accomplish</th>\n",
       "      <td>1</td>\n",
       "      <td>5345</td>\n",
       "    </tr>\n",
       "  </tbody>\n",
       "</table>\n",
       "<p>5346 rows × 2 columns</p>\n",
       "</div>"
      ],
      "text/plain": [
       "                  appear  rank\n",
       "the                 1287     0\n",
       "to                   968     1\n",
       "and                  877     2\n",
       "a                    790     3\n",
       "of                   736     4\n",
       "i                    506     5\n",
       "is                   496     6\n",
       "that                 461     7\n",
       "in                   434     8\n",
       "it                   360     9\n",
       "you                  353    10\n",
       "for                  290    11\n",
       "are                  280    12\n",
       "with                 233    13\n",
       "have                 232    14\n",
       "they                 231    15\n",
       "not                  219    16\n",
       "be                   217    17\n",
       "this                 216    18\n",
       "as                   216    19\n",
       "on                   187    20\n",
       "women                186    21\n",
       "men                  186    22\n",
       "but                  179    23\n",
       "or                   176    24\n",
       "my                   142    25\n",
       "all                  138    26\n",
       "just                 133    27\n",
       "get                  131    28\n",
       "if                   129    29\n",
       "...                  ...   ...\n",
       "vagina                 1  5316\n",
       "pants                  1  5317\n",
       "fashionable            1  5318\n",
       "determine              1  5319\n",
       "presentationally       1  5320\n",
       "dicks                  1  5321\n",
       "brainless              1  5322\n",
       "quasi                  1  5323\n",
       "downward               1  5324\n",
       "caving                 1  5325\n",
       "speaker                1  5326\n",
       "illuminating           1  5327\n",
       "temporarily            1  5328\n",
       "lockstep               1  5329\n",
       "striding               1  5330\n",
       "rises                  1  5331\n",
       "dismisses              1  5332\n",
       "linger                 1  5333\n",
       "stays                  1  5334\n",
       "tasks                  1  5335\n",
       "finishes               1  5336\n",
       "centralized            1  5337\n",
       "ears                   1  5338\n",
       "members                1  5339\n",
       "discussions            1  5340\n",
       "verbal                 1  5341\n",
       "giveaway               1  5342\n",
       "regain                 1  5343\n",
       "nose                   1  5344\n",
       "accomplish             1  5345\n",
       "\n",
       "[5346 rows x 2 columns]"
      ]
     },
     "execution_count": 13,
     "metadata": {},
     "output_type": "execute_result"
    }
   ],
   "source": [
    "df"
   ]
  },
  {
   "cell_type": "markdown",
   "metadata": {},
   "source": [
    "# exredpill"
   ]
  },
  {
   "cell_type": "code",
   "execution_count": 14,
   "metadata": {},
   "outputs": [],
   "source": [
    "exredpill = pd.read_csv('Comments-Data/exredpill_Comments.csv')"
   ]
  },
  {
   "cell_type": "code",
   "execution_count": 15,
   "metadata": {},
   "outputs": [
    {
     "data": {
      "text/html": [
       "<div>\n",
       "<style scoped>\n",
       "    .dataframe tbody tr th:only-of-type {\n",
       "        vertical-align: middle;\n",
       "    }\n",
       "\n",
       "    .dataframe tbody tr th {\n",
       "        vertical-align: top;\n",
       "    }\n",
       "\n",
       "    .dataframe thead th {\n",
       "        text-align: right;\n",
       "    }\n",
       "</style>\n",
       "<table border=\"1\" class=\"dataframe\">\n",
       "  <thead>\n",
       "    <tr style=\"text-align: right;\">\n",
       "      <th></th>\n",
       "      <th>ID</th>\n",
       "      <th>Comment</th>\n",
       "      <th>Author</th>\n",
       "      <th>Score</th>\n",
       "      <th>Parent id</th>\n",
       "      <th>Publish Date</th>\n",
       "    </tr>\n",
       "  </thead>\n",
       "  <tbody>\n",
       "    <tr>\n",
       "      <th>0</th>\n",
       "      <td>chi1gnk</td>\n",
       "      <td>Did many other people at your school/college d...</td>\n",
       "      <td>accacaaccaca</td>\n",
       "      <td>4</td>\n",
       "      <td>t3_25kd9o</td>\n",
       "      <td>2014-05-14 17:36:05</td>\n",
       "    </tr>\n",
       "    <tr>\n",
       "      <th>1</th>\n",
       "      <td>chi6vf2</td>\n",
       "      <td>[deleted]</td>\n",
       "      <td>[deleted]</td>\n",
       "      <td>2</td>\n",
       "      <td>t3_25kd9o</td>\n",
       "      <td>2014-05-14 20:44:56</td>\n",
       "    </tr>\n",
       "    <tr>\n",
       "      <th>2</th>\n",
       "      <td>chi9org</td>\n",
       "      <td>Seconding this. What do you think it would tak...</td>\n",
       "      <td>laskuraska</td>\n",
       "      <td>2</td>\n",
       "      <td>t1_chi6vf2</td>\n",
       "      <td>2014-05-14 22:31:07</td>\n",
       "    </tr>\n",
       "    <tr>\n",
       "      <th>3</th>\n",
       "      <td>chibx7j</td>\n",
       "      <td>Personally, I think the best way redpillers co...</td>\n",
       "      <td>[deleted]</td>\n",
       "      <td>3</td>\n",
       "      <td>t1_chi6vf2</td>\n",
       "      <td>2014-05-14 23:53:34</td>\n",
       "    </tr>\n",
       "    <tr>\n",
       "      <th>4</th>\n",
       "      <td>chic1kd</td>\n",
       "      <td>[deleted]</td>\n",
       "      <td>[deleted]</td>\n",
       "      <td>1</td>\n",
       "      <td>t1_chibx7j</td>\n",
       "      <td>2014-05-14 23:58:24</td>\n",
       "    </tr>\n",
       "  </tbody>\n",
       "</table>\n",
       "</div>"
      ],
      "text/plain": [
       "        ID                                            Comment        Author  \\\n",
       "0  chi1gnk  Did many other people at your school/college d...  accacaaccaca   \n",
       "1  chi6vf2                                          [deleted]     [deleted]   \n",
       "2  chi9org  Seconding this. What do you think it would tak...    laskuraska   \n",
       "3  chibx7j  Personally, I think the best way redpillers co...     [deleted]   \n",
       "4  chic1kd                                          [deleted]     [deleted]   \n",
       "\n",
       "   Score   Parent id         Publish Date  \n",
       "0      4   t3_25kd9o  2014-05-14 17:36:05  \n",
       "1      2   t3_25kd9o  2014-05-14 20:44:56  \n",
       "2      2  t1_chi6vf2  2014-05-14 22:31:07  \n",
       "3      3  t1_chi6vf2  2014-05-14 23:53:34  \n",
       "4      1  t1_chibx7j  2014-05-14 23:58:24  "
      ]
     },
     "execution_count": 15,
     "metadata": {},
     "output_type": "execute_result"
    }
   ],
   "source": [
    "exredpill.head()"
   ]
  },
  {
   "cell_type": "code",
   "execution_count": 16,
   "metadata": {},
   "outputs": [],
   "source": [
    "date = exredpill['Publish Date']"
   ]
  },
  {
   "cell_type": "code",
   "execution_count": 17,
   "metadata": {},
   "outputs": [],
   "source": [
    "years = [item[:4] for item in date]"
   ]
  },
  {
   "cell_type": "code",
   "execution_count": 18,
   "metadata": {},
   "outputs": [],
   "source": [
    "exredpill['year'] = years"
   ]
  },
  {
   "cell_type": "code",
   "execution_count": 19,
   "metadata": {},
   "outputs": [
    {
     "data": {
      "text/html": [
       "<div>\n",
       "<style scoped>\n",
       "    .dataframe tbody tr th:only-of-type {\n",
       "        vertical-align: middle;\n",
       "    }\n",
       "\n",
       "    .dataframe tbody tr th {\n",
       "        vertical-align: top;\n",
       "    }\n",
       "\n",
       "    .dataframe thead th {\n",
       "        text-align: right;\n",
       "    }\n",
       "</style>\n",
       "<table border=\"1\" class=\"dataframe\">\n",
       "  <thead>\n",
       "    <tr style=\"text-align: right;\">\n",
       "      <th></th>\n",
       "      <th>ID</th>\n",
       "      <th>Comment</th>\n",
       "      <th>Author</th>\n",
       "      <th>Score</th>\n",
       "      <th>Parent id</th>\n",
       "      <th>Publish Date</th>\n",
       "      <th>year</th>\n",
       "    </tr>\n",
       "  </thead>\n",
       "  <tbody>\n",
       "    <tr>\n",
       "      <th>0</th>\n",
       "      <td>chi1gnk</td>\n",
       "      <td>Did many other people at your school/college d...</td>\n",
       "      <td>accacaaccaca</td>\n",
       "      <td>4</td>\n",
       "      <td>t3_25kd9o</td>\n",
       "      <td>2014-05-14 17:36:05</td>\n",
       "      <td>2014</td>\n",
       "    </tr>\n",
       "    <tr>\n",
       "      <th>1</th>\n",
       "      <td>chi6vf2</td>\n",
       "      <td>[deleted]</td>\n",
       "      <td>[deleted]</td>\n",
       "      <td>2</td>\n",
       "      <td>t3_25kd9o</td>\n",
       "      <td>2014-05-14 20:44:56</td>\n",
       "      <td>2014</td>\n",
       "    </tr>\n",
       "    <tr>\n",
       "      <th>2</th>\n",
       "      <td>chi9org</td>\n",
       "      <td>Seconding this. What do you think it would tak...</td>\n",
       "      <td>laskuraska</td>\n",
       "      <td>2</td>\n",
       "      <td>t1_chi6vf2</td>\n",
       "      <td>2014-05-14 22:31:07</td>\n",
       "      <td>2014</td>\n",
       "    </tr>\n",
       "    <tr>\n",
       "      <th>3</th>\n",
       "      <td>chibx7j</td>\n",
       "      <td>Personally, I think the best way redpillers co...</td>\n",
       "      <td>[deleted]</td>\n",
       "      <td>3</td>\n",
       "      <td>t1_chi6vf2</td>\n",
       "      <td>2014-05-14 23:53:34</td>\n",
       "      <td>2014</td>\n",
       "    </tr>\n",
       "    <tr>\n",
       "      <th>4</th>\n",
       "      <td>chic1kd</td>\n",
       "      <td>[deleted]</td>\n",
       "      <td>[deleted]</td>\n",
       "      <td>1</td>\n",
       "      <td>t1_chibx7j</td>\n",
       "      <td>2014-05-14 23:58:24</td>\n",
       "      <td>2014</td>\n",
       "    </tr>\n",
       "  </tbody>\n",
       "</table>\n",
       "</div>"
      ],
      "text/plain": [
       "        ID                                            Comment        Author  \\\n",
       "0  chi1gnk  Did many other people at your school/college d...  accacaaccaca   \n",
       "1  chi6vf2                                          [deleted]     [deleted]   \n",
       "2  chi9org  Seconding this. What do you think it would tak...    laskuraska   \n",
       "3  chibx7j  Personally, I think the best way redpillers co...     [deleted]   \n",
       "4  chic1kd                                          [deleted]     [deleted]   \n",
       "\n",
       "   Score   Parent id         Publish Date  year  \n",
       "0      4   t3_25kd9o  2014-05-14 17:36:05  2014  \n",
       "1      2   t3_25kd9o  2014-05-14 20:44:56  2014  \n",
       "2      2  t1_chi6vf2  2014-05-14 22:31:07  2014  \n",
       "3      3  t1_chi6vf2  2014-05-14 23:53:34  2014  \n",
       "4      1  t1_chibx7j  2014-05-14 23:58:24  2014  "
      ]
     },
     "execution_count": 19,
     "metadata": {},
     "output_type": "execute_result"
    }
   ],
   "source": [
    "exredpill.head()"
   ]
  },
  {
   "cell_type": "code",
   "execution_count": 20,
   "metadata": {},
   "outputs": [
    {
     "data": {
      "text/html": [
       "<div>\n",
       "<style scoped>\n",
       "    .dataframe tbody tr th:only-of-type {\n",
       "        vertical-align: middle;\n",
       "    }\n",
       "\n",
       "    .dataframe tbody tr th {\n",
       "        vertical-align: top;\n",
       "    }\n",
       "\n",
       "    .dataframe thead th {\n",
       "        text-align: right;\n",
       "    }\n",
       "</style>\n",
       "<table border=\"1\" class=\"dataframe\">\n",
       "  <thead>\n",
       "    <tr style=\"text-align: right;\">\n",
       "      <th></th>\n",
       "      <th>Score</th>\n",
       "    </tr>\n",
       "    <tr>\n",
       "      <th>year</th>\n",
       "      <th></th>\n",
       "    </tr>\n",
       "  </thead>\n",
       "  <tbody>\n",
       "    <tr>\n",
       "      <th>2014</th>\n",
       "      <td>3006</td>\n",
       "    </tr>\n",
       "    <tr>\n",
       "      <th>2015</th>\n",
       "      <td>3205</td>\n",
       "    </tr>\n",
       "    <tr>\n",
       "      <th>2016</th>\n",
       "      <td>8442</td>\n",
       "    </tr>\n",
       "    <tr>\n",
       "      <th>2017</th>\n",
       "      <td>17934</td>\n",
       "    </tr>\n",
       "    <tr>\n",
       "      <th>2018</th>\n",
       "      <td>12373</td>\n",
       "    </tr>\n",
       "    <tr>\n",
       "      <th>2019</th>\n",
       "      <td>5011</td>\n",
       "    </tr>\n",
       "  </tbody>\n",
       "</table>\n",
       "</div>"
      ],
      "text/plain": [
       "      Score\n",
       "year       \n",
       "2014   3006\n",
       "2015   3205\n",
       "2016   8442\n",
       "2017  17934\n",
       "2018  12373\n",
       "2019   5011"
      ]
     },
     "execution_count": 20,
     "metadata": {},
     "output_type": "execute_result"
    }
   ],
   "source": [
    "exredpill.groupby('year').sum()"
   ]
  },
  {
   "cell_type": "code",
   "execution_count": 21,
   "metadata": {},
   "outputs": [],
   "source": [
    "month = [item[:7] for item in date]"
   ]
  },
  {
   "cell_type": "code",
   "execution_count": 22,
   "metadata": {},
   "outputs": [],
   "source": [
    "exredpill['month'] = month"
   ]
  },
  {
   "cell_type": "code",
   "execution_count": 23,
   "metadata": {},
   "outputs": [
    {
     "data": {
      "text/html": [
       "<div>\n",
       "<style scoped>\n",
       "    .dataframe tbody tr th:only-of-type {\n",
       "        vertical-align: middle;\n",
       "    }\n",
       "\n",
       "    .dataframe tbody tr th {\n",
       "        vertical-align: top;\n",
       "    }\n",
       "\n",
       "    .dataframe thead th {\n",
       "        text-align: right;\n",
       "    }\n",
       "</style>\n",
       "<table border=\"1\" class=\"dataframe\">\n",
       "  <thead>\n",
       "    <tr style=\"text-align: right;\">\n",
       "      <th></th>\n",
       "      <th>ID</th>\n",
       "      <th>Comment</th>\n",
       "      <th>Author</th>\n",
       "      <th>Score</th>\n",
       "      <th>Parent id</th>\n",
       "      <th>Publish Date</th>\n",
       "      <th>year</th>\n",
       "      <th>month</th>\n",
       "    </tr>\n",
       "  </thead>\n",
       "  <tbody>\n",
       "    <tr>\n",
       "      <th>0</th>\n",
       "      <td>chi1gnk</td>\n",
       "      <td>Did many other people at your school/college d...</td>\n",
       "      <td>accacaaccaca</td>\n",
       "      <td>4</td>\n",
       "      <td>t3_25kd9o</td>\n",
       "      <td>2014-05-14 17:36:05</td>\n",
       "      <td>2014</td>\n",
       "      <td>2014-05</td>\n",
       "    </tr>\n",
       "    <tr>\n",
       "      <th>1</th>\n",
       "      <td>chi6vf2</td>\n",
       "      <td>[deleted]</td>\n",
       "      <td>[deleted]</td>\n",
       "      <td>2</td>\n",
       "      <td>t3_25kd9o</td>\n",
       "      <td>2014-05-14 20:44:56</td>\n",
       "      <td>2014</td>\n",
       "      <td>2014-05</td>\n",
       "    </tr>\n",
       "    <tr>\n",
       "      <th>2</th>\n",
       "      <td>chi9org</td>\n",
       "      <td>Seconding this. What do you think it would tak...</td>\n",
       "      <td>laskuraska</td>\n",
       "      <td>2</td>\n",
       "      <td>t1_chi6vf2</td>\n",
       "      <td>2014-05-14 22:31:07</td>\n",
       "      <td>2014</td>\n",
       "      <td>2014-05</td>\n",
       "    </tr>\n",
       "    <tr>\n",
       "      <th>3</th>\n",
       "      <td>chibx7j</td>\n",
       "      <td>Personally, I think the best way redpillers co...</td>\n",
       "      <td>[deleted]</td>\n",
       "      <td>3</td>\n",
       "      <td>t1_chi6vf2</td>\n",
       "      <td>2014-05-14 23:53:34</td>\n",
       "      <td>2014</td>\n",
       "      <td>2014-05</td>\n",
       "    </tr>\n",
       "    <tr>\n",
       "      <th>4</th>\n",
       "      <td>chic1kd</td>\n",
       "      <td>[deleted]</td>\n",
       "      <td>[deleted]</td>\n",
       "      <td>1</td>\n",
       "      <td>t1_chibx7j</td>\n",
       "      <td>2014-05-14 23:58:24</td>\n",
       "      <td>2014</td>\n",
       "      <td>2014-05</td>\n",
       "    </tr>\n",
       "  </tbody>\n",
       "</table>\n",
       "</div>"
      ],
      "text/plain": [
       "        ID                                            Comment        Author  \\\n",
       "0  chi1gnk  Did many other people at your school/college d...  accacaaccaca   \n",
       "1  chi6vf2                                          [deleted]     [deleted]   \n",
       "2  chi9org  Seconding this. What do you think it would tak...    laskuraska   \n",
       "3  chibx7j  Personally, I think the best way redpillers co...     [deleted]   \n",
       "4  chic1kd                                          [deleted]     [deleted]   \n",
       "\n",
       "   Score   Parent id         Publish Date  year    month  \n",
       "0      4   t3_25kd9o  2014-05-14 17:36:05  2014  2014-05  \n",
       "1      2   t3_25kd9o  2014-05-14 20:44:56  2014  2014-05  \n",
       "2      2  t1_chi6vf2  2014-05-14 22:31:07  2014  2014-05  \n",
       "3      3  t1_chi6vf2  2014-05-14 23:53:34  2014  2014-05  \n",
       "4      1  t1_chibx7j  2014-05-14 23:58:24  2014  2014-05  "
      ]
     },
     "execution_count": 23,
     "metadata": {},
     "output_type": "execute_result"
    }
   ],
   "source": [
    "exredpill.head()"
   ]
  },
  {
   "cell_type": "code",
   "execution_count": 24,
   "metadata": {},
   "outputs": [],
   "source": [
    "comments_per_month = exredpill.groupby('month').sum()"
   ]
  },
  {
   "cell_type": "code",
   "execution_count": 25,
   "metadata": {},
   "outputs": [
    {
     "data": {
      "text/html": [
       "<div>\n",
       "<style scoped>\n",
       "    .dataframe tbody tr th:only-of-type {\n",
       "        vertical-align: middle;\n",
       "    }\n",
       "\n",
       "    .dataframe tbody tr th {\n",
       "        vertical-align: top;\n",
       "    }\n",
       "\n",
       "    .dataframe thead th {\n",
       "        text-align: right;\n",
       "    }\n",
       "</style>\n",
       "<table border=\"1\" class=\"dataframe\">\n",
       "  <thead>\n",
       "    <tr style=\"text-align: right;\">\n",
       "      <th></th>\n",
       "      <th>Score</th>\n",
       "    </tr>\n",
       "    <tr>\n",
       "      <th>month</th>\n",
       "      <th></th>\n",
       "    </tr>\n",
       "  </thead>\n",
       "  <tbody>\n",
       "    <tr>\n",
       "      <th>2014-05</th>\n",
       "      <td>97</td>\n",
       "    </tr>\n",
       "    <tr>\n",
       "      <th>2014-06</th>\n",
       "      <td>401</td>\n",
       "    </tr>\n",
       "    <tr>\n",
       "      <th>2014-07</th>\n",
       "      <td>345</td>\n",
       "    </tr>\n",
       "    <tr>\n",
       "      <th>2014-08</th>\n",
       "      <td>50</td>\n",
       "    </tr>\n",
       "    <tr>\n",
       "      <th>2014-09</th>\n",
       "      <td>459</td>\n",
       "    </tr>\n",
       "  </tbody>\n",
       "</table>\n",
       "</div>"
      ],
      "text/plain": [
       "         Score\n",
       "month         \n",
       "2014-05     97\n",
       "2014-06    401\n",
       "2014-07    345\n",
       "2014-08     50\n",
       "2014-09    459"
      ]
     },
     "execution_count": 25,
     "metadata": {},
     "output_type": "execute_result"
    }
   ],
   "source": [
    "comments_per_month.head()"
   ]
  },
  {
   "cell_type": "code",
   "execution_count": 26,
   "metadata": {},
   "outputs": [
    {
     "data": {
      "image/png": "[encoded data removed]",
      "text/plain": [
       "<Figure size 432x288 with 1 Axes>"
      ]
     },
     "metadata": {
      "needs_background": "light"
     },
     "output_type": "display_data"
    }
   ],
   "source": [
    "comments_per_month.pivot_table( index='month').plot();"
   ]
  },
  {
   "cell_type": "markdown",
   "metadata": {},
   "source": [
    "# Analise sentimental"
   ]
  },
  {
   "cell_type": "code",
   "execution_count": 72,
   "metadata": {},
   "outputs": [],
   "source": [
    "exredpill = exredpill[exredpill.Comment != '[deleted]']"
   ]
  },
  {
   "cell_type": "code",
   "execution_count": 73,
   "metadata": {},
   "outputs": [],
   "source": [
    "from textblob import TextBlob"
   ]
  },
  {
   "cell_type": "code",
   "execution_count": 74,
   "metadata": {},
   "outputs": [],
   "source": [
    "sentiment = []\n",
    "subjectivity = []\n",
    "for comment in exredpill['Comment']:\n",
    "    sentiment.append(TextBlob(comment).sentiment[0])\n",
    "    subjectivity.append(TextBlob(comment).sentiment[1])"
   ]
  },
  {
   "cell_type": "code",
   "execution_count": 75,
   "metadata": {},
   "outputs": [],
   "source": [
    "exredpill['polarity'] = sentiment\n",
    "exredpill['subjectivity'] = subjectivity"
   ]
  },
  {
   "cell_type": "code",
   "execution_count": 76,
   "metadata": {},
   "outputs": [
    {
     "data": {
      "text/html": [
       "<div>\n",
       "<style scoped>\n",
       "    .dataframe tbody tr th:only-of-type {\n",
       "        vertical-align: middle;\n",
       "    }\n",
       "\n",
       "    .dataframe tbody tr th {\n",
       "        vertical-align: top;\n",
       "    }\n",
       "\n",
       "    .dataframe thead th {\n",
       "        text-align: right;\n",
       "    }\n",
       "</style>\n",
       "<table border=\"1\" class=\"dataframe\">\n",
       "  <thead>\n",
       "    <tr style=\"text-align: right;\">\n",
       "      <th></th>\n",
       "      <th>ID</th>\n",
       "      <th>Comment</th>\n",
       "      <th>Author</th>\n",
       "      <th>Score</th>\n",
       "      <th>Parent id</th>\n",
       "      <th>Publish Date</th>\n",
       "      <th>year</th>\n",
       "      <th>month</th>\n",
       "      <th>polarity</th>\n",
       "      <th>subjectivity</th>\n",
       "    </tr>\n",
       "  </thead>\n",
       "  <tbody>\n",
       "    <tr>\n",
       "      <th>0</th>\n",
       "      <td>chi1gnk</td>\n",
       "      <td>Did many other people at your school/college d...</td>\n",
       "      <td>accacaaccaca</td>\n",
       "      <td>4</td>\n",
       "      <td>t3_25kd9o</td>\n",
       "      <td>2014-05-14 17:36:05</td>\n",
       "      <td>2014</td>\n",
       "      <td>2014-05</td>\n",
       "      <td>0.093750</td>\n",
       "      <td>0.418750</td>\n",
       "    </tr>\n",
       "    <tr>\n",
       "      <th>2</th>\n",
       "      <td>chi9org</td>\n",
       "      <td>Seconding this. What do you think it would tak...</td>\n",
       "      <td>laskuraska</td>\n",
       "      <td>2</td>\n",
       "      <td>t1_chi6vf2</td>\n",
       "      <td>2014-05-14 22:31:07</td>\n",
       "      <td>2014</td>\n",
       "      <td>2014-05</td>\n",
       "      <td>-0.066667</td>\n",
       "      <td>0.533333</td>\n",
       "    </tr>\n",
       "    <tr>\n",
       "      <th>3</th>\n",
       "      <td>chibx7j</td>\n",
       "      <td>Personally, I think the best way redpillers co...</td>\n",
       "      <td>[deleted]</td>\n",
       "      <td>3</td>\n",
       "      <td>t1_chi6vf2</td>\n",
       "      <td>2014-05-14 23:53:34</td>\n",
       "      <td>2014</td>\n",
       "      <td>2014-05</td>\n",
       "      <td>0.357500</td>\n",
       "      <td>0.434938</td>\n",
       "    </tr>\n",
       "    <tr>\n",
       "      <th>5</th>\n",
       "      <td>chic9k5</td>\n",
       "      <td>Actually, not that many people sent up red fla...</td>\n",
       "      <td>[deleted]</td>\n",
       "      <td>7</td>\n",
       "      <td>t1_chi1gnk</td>\n",
       "      <td>2014-05-15 00:07:10</td>\n",
       "      <td>2014</td>\n",
       "      <td>2014-05</td>\n",
       "      <td>-0.026091</td>\n",
       "      <td>0.377381</td>\n",
       "    </tr>\n",
       "    <tr>\n",
       "      <th>6</th>\n",
       "      <td>chie456</td>\n",
       "      <td>&amp;gtUnfortunately, all the pretty girls smoked ...</td>\n",
       "      <td>chinchillazilla54</td>\n",
       "      <td>1</td>\n",
       "      <td>t3_25kd9o</td>\n",
       "      <td>2014-05-15 01:27:10</td>\n",
       "      <td>2014</td>\n",
       "      <td>2014-05</td>\n",
       "      <td>0.216250</td>\n",
       "      <td>0.720324</td>\n",
       "    </tr>\n",
       "  </tbody>\n",
       "</table>\n",
       "</div>"
      ],
      "text/plain": [
       "        ID                                            Comment  \\\n",
       "0  chi1gnk  Did many other people at your school/college d...   \n",
       "2  chi9org  Seconding this. What do you think it would tak...   \n",
       "3  chibx7j  Personally, I think the best way redpillers co...   \n",
       "5  chic9k5  Actually, not that many people sent up red fla...   \n",
       "6  chie456  &gtUnfortunately, all the pretty girls smoked ...   \n",
       "\n",
       "              Author  Score   Parent id         Publish Date  year    month  \\\n",
       "0       accacaaccaca      4   t3_25kd9o  2014-05-14 17:36:05  2014  2014-05   \n",
       "2         laskuraska      2  t1_chi6vf2  2014-05-14 22:31:07  2014  2014-05   \n",
       "3          [deleted]      3  t1_chi6vf2  2014-05-14 23:53:34  2014  2014-05   \n",
       "5          [deleted]      7  t1_chi1gnk  2014-05-15 00:07:10  2014  2014-05   \n",
       "6  chinchillazilla54      1   t3_25kd9o  2014-05-15 01:27:10  2014  2014-05   \n",
       "\n",
       "   polarity  subjectivity  \n",
       "0  0.093750      0.418750  \n",
       "2 -0.066667      0.533333  \n",
       "3  0.357500      0.434938  \n",
       "5 -0.026091      0.377381  \n",
       "6  0.216250      0.720324  "
      ]
     },
     "execution_count": 76,
     "metadata": {},
     "output_type": "execute_result"
    }
   ],
   "source": [
    "exredpill.head()"
   ]
  },
  {
   "cell_type": "code",
   "execution_count": 77,
   "metadata": {},
   "outputs": [],
   "source": [
    "polarity_serie = exredpill.groupby('month')['polarity'].mean()\n",
    "subjectivity_serie = exredpill.groupby('month')['subjectivity'].mean()"
   ]
  },
  {
   "cell_type": "code",
   "execution_count": 78,
   "metadata": {},
   "outputs": [
    {
     "data": {
      "text/plain": [
       "month\n",
       "2014-05    0.060583\n",
       "2014-06    0.097278\n",
       "2014-07    0.097239\n",
       "2014-08    0.109742\n",
       "2014-09    0.043246\n",
       "Name: polarity, dtype: float64"
      ]
     },
     "execution_count": 78,
     "metadata": {},
     "output_type": "execute_result"
    }
   ],
   "source": [
    "polarity_serie.head()"
   ]
  },
  {
   "cell_type": "code",
   "execution_count": 79,
   "metadata": {},
   "outputs": [
    {
     "data": {
      "text/plain": [
       "month\n",
       "2014-05    0.499054\n",
       "2014-06    0.477461\n",
       "2014-07    0.466069\n",
       "2014-08    0.500064\n",
       "2014-09    0.448673\n",
       "Name: subjectivity, dtype: float64"
      ]
     },
     "execution_count": 79,
     "metadata": {},
     "output_type": "execute_result"
    }
   ],
   "source": [
    "subjectivity_serie.head()"
   ]
  },
  {
   "cell_type": "code",
   "execution_count": 80,
   "metadata": {},
   "outputs": [
    {
     "data": {
      "image/png": "[encoded data removed]",
      "text/plain": [
       "<Figure size 432x288 with 1 Axes>"
      ]
     },
     "metadata": {
      "needs_background": "light"
     },
     "output_type": "display_data"
    }
   ],
   "source": [
    "fig, ax = plt.subplots()\n",
    "polarity_serie.plot();"
   ]
  },
  {
   "cell_type": "code",
   "execution_count": 81,
   "metadata": {},
   "outputs": [
    {
     "data": {
      "image/png": "[encoded data removed]",
      "text/plain": [
       "<Figure size 432x288 with 1 Axes>"
      ]
     },
     "metadata": {
      "needs_background": "light"
     },
     "output_type": "display_data"
    }
   ],
   "source": [
    "subjectivity_serie.plot();"
   ]
  },
  {
   "cell_type": "code",
   "execution_count": 153,
   "metadata": {},
   "outputs": [],
   "source": [
    "polarity_serie = exredpill.groupby('year')['polarity'].mean()\n",
    "subjectivity_serie = exredpill.groupby('year')['subjectivity'].mean()"
   ]
  },
  {
   "cell_type": "code",
   "execution_count": 155,
   "metadata": {},
   "outputs": [
    {
     "data": {
      "image/png": "[encoded data removed]",
      "text/plain": [
       "<Figure size 432x288 with 1 Axes>"
      ]
     },
     "metadata": {
      "needs_background": "light"
     },
     "output_type": "display_data"
    }
   ],
   "source": [
    "fig, ax = plt.subplots()\n",
    "polarity_serie.plot();"
   ]
  },
  {
   "cell_type": "code",
   "execution_count": 156,
   "metadata": {},
   "outputs": [
    {
     "data": {
      "image/png": "[encoded data removed]",
      "text/plain": [
       "<Figure size 432x288 with 1 Axes>"
      ]
     },
     "metadata": {
      "needs_background": "light"
     },
     "output_type": "display_data"
    }
   ],
   "source": [
    "subjectivity_serie.plot();"
   ]
  },
  {
   "cell_type": "markdown",
   "metadata": {},
   "source": [
    "# Empath"
   ]
  },
  {
   "cell_type": "code",
   "execution_count": 82,
   "metadata": {},
   "outputs": [],
   "source": [
    "from empath import Empath\n",
    "lexicon = Empath()"
   ]
  },
  {
   "cell_type": "code",
   "execution_count": 83,
   "metadata": {},
   "outputs": [],
   "source": [
    "analyze = lexicon.analyze(exredpill['Comment'][0])"
   ]
  },
  {
   "cell_type": "code",
   "execution_count": 168,
   "metadata": {},
   "outputs": [
    {
     "data": {
      "text/plain": [
       "{'help': 0.0,\n",
       " 'office': 0.0,\n",
       " 'dance': 0.0,\n",
       " 'money': 1.0,\n",
       " 'wedding': 0.0,\n",
       " 'domestic_work': 0.0,\n",
       " 'sleep': 0.0,\n",
       " 'medical_emergency': 0.0,\n",
       " 'cold': 0.0,\n",
       " 'hate': 0.0,\n",
       " 'cheerfulness': 0.0,\n",
       " 'aggression': 0.0,\n",
       " 'occupation': 0.0,\n",
       " 'envy': 0.0,\n",
       " 'anticipation': 0.0,\n",
       " 'family': 0.0,\n",
       " 'vacation': 0.0,\n",
       " 'crime': 0.0,\n",
       " 'attractive': 0.0,\n",
       " 'masculine': 0.0,\n",
       " 'prison': 0.0,\n",
       " 'health': 0.0,\n",
       " 'pride': 0.0,\n",
       " 'dispute': 0.0,\n",
       " 'nervousness': 0.0,\n",
       " 'government': 0.0,\n",
       " 'weakness': 0.0,\n",
       " 'horror': 0.0,\n",
       " 'swearing_terms': 0.0,\n",
       " 'leisure': 0.0,\n",
       " 'suffering': 0.0,\n",
       " 'royalty': 0.0,\n",
       " 'wealthy': 0.0,\n",
       " 'tourism': 0.0,\n",
       " 'furniture': 0.0,\n",
       " 'school': 0.0,\n",
       " 'magic': 0.0,\n",
       " 'beach': 1.0,\n",
       " 'journalism': 0.0,\n",
       " 'morning': 0.0,\n",
       " 'banking': 0.0,\n",
       " 'social_media': 0.0,\n",
       " 'exercise': 1.0,\n",
       " 'night': 0.0,\n",
       " 'kill': 0.0,\n",
       " 'blue_collar_job': 0.0,\n",
       " 'art': 0.0,\n",
       " 'ridicule': 0.0,\n",
       " 'play': 0.0,\n",
       " 'computer': 0.0,\n",
       " 'college': 0.0,\n",
       " 'optimism': 0.0,\n",
       " 'stealing': 0.0,\n",
       " 'real_estate': 0.0,\n",
       " 'home': 0.0,\n",
       " 'divine': 0.0,\n",
       " 'sexual': 0.0,\n",
       " 'fear': 0.0,\n",
       " 'irritability': 0.0,\n",
       " 'superhero': 0.0,\n",
       " 'business': 0.0,\n",
       " 'driving': 0.0,\n",
       " 'pet': 0.0,\n",
       " 'childish': 0.0,\n",
       " 'cooking': 0.0,\n",
       " 'exasperation': 0.0,\n",
       " 'religion': 0.0,\n",
       " 'hipster': 0.0,\n",
       " 'internet': 0.0,\n",
       " 'surprise': 0.0,\n",
       " 'reading': 0.0,\n",
       " 'worship': 0.0,\n",
       " 'leader': 1.0,\n",
       " 'independence': 0.0,\n",
       " 'movement': 0.0,\n",
       " 'body': 0.0,\n",
       " 'noise': 0.0,\n",
       " 'eating': 0.0,\n",
       " 'medieval': 0.0,\n",
       " 'zest': 0.0,\n",
       " 'confusion': 0.0,\n",
       " 'water': 1.0,\n",
       " 'sports': 0.0,\n",
       " 'death': 0.0,\n",
       " 'healing': 0.0,\n",
       " 'legend': 0.0,\n",
       " 'heroic': 0.0,\n",
       " 'celebration': 0.0,\n",
       " 'restaurant': 0.0,\n",
       " 'violence': 0.0,\n",
       " 'programming': 0.0,\n",
       " 'dominant_heirarchical': 0.0,\n",
       " 'military': 0.0,\n",
       " 'neglect': 0.0,\n",
       " 'swimming': 1.0,\n",
       " 'exotic': 0.0,\n",
       " 'love': 0.0,\n",
       " 'hiking': 0.0,\n",
       " 'communication': 0.0,\n",
       " 'hearing': 0.0,\n",
       " 'order': 0.0,\n",
       " 'sympathy': 0.0,\n",
       " 'hygiene': 0.0,\n",
       " 'weather': 0.0,\n",
       " 'anonymity': 0.0,\n",
       " 'trust': 0.0,\n",
       " 'ancient': 0.0,\n",
       " 'deception': 0.0,\n",
       " 'fabric': 0.0,\n",
       " 'air_travel': 0.0,\n",
       " 'fight': 0.0,\n",
       " 'dominant_personality': 0.0,\n",
       " 'music': 0.0,\n",
       " 'vehicle': 0.0,\n",
       " 'politeness': 0.0,\n",
       " 'toy': 0.0,\n",
       " 'farming': 0.0,\n",
       " 'meeting': 0.0,\n",
       " 'war': 0.0,\n",
       " 'speaking': 0.0,\n",
       " 'listen': 0.0,\n",
       " 'urban': 0.0,\n",
       " 'shopping': 0.0,\n",
       " 'disgust': 0.0,\n",
       " 'fire': 0.0,\n",
       " 'tool': 0.0,\n",
       " 'phone': 0.0,\n",
       " 'gain': 0.0,\n",
       " 'sound': 0.0,\n",
       " 'injury': 0.0,\n",
       " 'sailing': 0.0,\n",
       " 'rage': 0.0,\n",
       " 'science': 0.0,\n",
       " 'work': 0.0,\n",
       " 'appearance': 2.0,\n",
       " 'valuable': 0.0,\n",
       " 'warmth': 0.0,\n",
       " 'youth': 0.0,\n",
       " 'sadness': 0.0,\n",
       " 'fun': 0.0,\n",
       " 'emotional': 0.0,\n",
       " 'joy': 0.0,\n",
       " 'affection': 0.0,\n",
       " 'traveling': 0.0,\n",
       " 'fashion': 0.0,\n",
       " 'ugliness': 0.0,\n",
       " 'lust': 0.0,\n",
       " 'shame': 0.0,\n",
       " 'torment': 0.0,\n",
       " 'economics': 0.0,\n",
       " 'anger': 0.0,\n",
       " 'politics': 0.0,\n",
       " 'ship': 0.0,\n",
       " 'clothing': 0.0,\n",
       " 'car': 0.0,\n",
       " 'strength': 0.0,\n",
       " 'technology': 0.0,\n",
       " 'breaking': 0.0,\n",
       " 'shape_and_size': 0.0,\n",
       " 'power': 0.0,\n",
       " 'white_collar_job': 0.0,\n",
       " 'animal': 0.0,\n",
       " 'party': 0.0,\n",
       " 'terrorism': 0.0,\n",
       " 'smell': 0.0,\n",
       " 'disappointment': 0.0,\n",
       " 'poor': 0.0,\n",
       " 'plant': 0.0,\n",
       " 'pain': 0.0,\n",
       " 'beauty': 0.0,\n",
       " 'timidity': 0.0,\n",
       " 'philosophy': 0.0,\n",
       " 'negotiate': 0.0,\n",
       " 'negative_emotion': 0.0,\n",
       " 'cleaning': 0.0,\n",
       " 'messaging': 0.0,\n",
       " 'competing': 0.0,\n",
       " 'law': 0.0,\n",
       " 'friends': 0.0,\n",
       " 'payment': 0.0,\n",
       " 'achievement': 0.0,\n",
       " 'alcohol': 0.0,\n",
       " 'liquid': 0.0,\n",
       " 'feminine': 0.0,\n",
       " 'weapon': 0.0,\n",
       " 'children': 0.0,\n",
       " 'monster': 0.0,\n",
       " 'ocean': 1.0,\n",
       " 'giving': 0.0,\n",
       " 'contentment': 0.0,\n",
       " 'writing': 0.0,\n",
       " 'rural': 0.0,\n",
       " 'positive_emotion': 0.0,\n",
       " 'musical': 0.0}"
      ]
     },
     "execution_count": 168,
     "metadata": {},
     "output_type": "execute_result"
    }
   ],
   "source": [
    "analyze"
   ]
  },
  {
   "cell_type": "code",
   "execution_count": 85,
   "metadata": {},
   "outputs": [],
   "source": [
    "analyze_word = pd.Series(list(analyze.keys()))\n",
    "analyze_value = pd.Series(list(analyze.values()))"
   ]
  },
  {
   "cell_type": "code",
   "execution_count": 86,
   "metadata": {},
   "outputs": [],
   "source": [
    "analyze_series = pd.Series(analyze)"
   ]
  },
  {
   "cell_type": "code",
   "execution_count": 87,
   "metadata": {},
   "outputs": [
    {
     "data": {
      "text/plain": [
       "appearance    2.0\n",
       "swimming      1.0\n",
       "ocean         1.0\n",
       "exercise      1.0\n",
       "beach         1.0\n",
       "dtype: float64"
      ]
     },
     "execution_count": 87,
     "metadata": {},
     "output_type": "execute_result"
    }
   ],
   "source": [
    "analyze_series.sort_values(ascending=False).head()"
   ]
  },
  {
   "cell_type": "code",
   "execution_count": 88,
   "metadata": {},
   "outputs": [
    {
     "data": {
      "text/plain": [
       "'Did many other people at your school/college do similar things (i.e. dive into TRP or similar ideologies)?\\n\\nIn what ways specifically did your views change of women?'"
      ]
     },
     "execution_count": 88,
     "metadata": {},
     "output_type": "execute_result"
    }
   ],
   "source": [
    "exredpill['Comment'][0]"
   ]
  },
  {
   "cell_type": "markdown",
   "metadata": {},
   "source": [
    "analisar evolução de um empath com o tempo\n",
    "histograma dos empath"
   ]
  },
  {
   "cell_type": "code",
   "execution_count": 89,
   "metadata": {},
   "outputs": [],
   "source": [
    "for comment in exredpill['Comment']:\n",
    "    analyze_series += pd.Series(lexicon.analyze(comment))"
   ]
  },
  {
   "cell_type": "code",
   "execution_count": 98,
   "metadata": {},
   "outputs": [],
   "source": [
    "sort = analyze_series.sort_values(ascending=False)\n",
    "data_analyze = pd.DataFrame(sort)"
   ]
  },
  {
   "cell_type": "code",
   "execution_count": 132,
   "metadata": {},
   "outputs": [
    {
     "data": {
      "text/html": [
       "<div>\n",
       "<style scoped>\n",
       "    .dataframe tbody tr th:only-of-type {\n",
       "        vertical-align: middle;\n",
       "    }\n",
       "\n",
       "    .dataframe tbody tr th {\n",
       "        vertical-align: top;\n",
       "    }\n",
       "\n",
       "    .dataframe thead th {\n",
       "        text-align: right;\n",
       "    }\n",
       "</style>\n",
       "<table border=\"1\" class=\"dataframe\">\n",
       "  <thead>\n",
       "    <tr style=\"text-align: right;\">\n",
       "      <th></th>\n",
       "      <th>sum</th>\n",
       "      <th>rank</th>\n",
       "    </tr>\n",
       "  </thead>\n",
       "  <tbody>\n",
       "    <tr>\n",
       "      <th>negative_emotion</th>\n",
       "      <td>15636.0</td>\n",
       "      <td>0</td>\n",
       "    </tr>\n",
       "    <tr>\n",
       "      <th>speaking</th>\n",
       "      <td>14197.0</td>\n",
       "      <td>1</td>\n",
       "    </tr>\n",
       "    <tr>\n",
       "      <th>communication</th>\n",
       "      <td>13203.0</td>\n",
       "      <td>2</td>\n",
       "    </tr>\n",
       "    <tr>\n",
       "      <th>positive_emotion</th>\n",
       "      <td>12015.0</td>\n",
       "      <td>3</td>\n",
       "    </tr>\n",
       "    <tr>\n",
       "      <th>trust</th>\n",
       "      <td>11089.0</td>\n",
       "      <td>4</td>\n",
       "    </tr>\n",
       "    <tr>\n",
       "      <th>friends</th>\n",
       "      <td>10963.0</td>\n",
       "      <td>5</td>\n",
       "    </tr>\n",
       "    <tr>\n",
       "      <th>children</th>\n",
       "      <td>9412.0</td>\n",
       "      <td>6</td>\n",
       "    </tr>\n",
       "    <tr>\n",
       "      <th>sexual</th>\n",
       "      <td>8798.0</td>\n",
       "      <td>7</td>\n",
       "    </tr>\n",
       "    <tr>\n",
       "      <th>love</th>\n",
       "      <td>8469.0</td>\n",
       "      <td>8</td>\n",
       "    </tr>\n",
       "    <tr>\n",
       "      <th>optimism</th>\n",
       "      <td>8468.0</td>\n",
       "      <td>9</td>\n",
       "    </tr>\n",
       "  </tbody>\n",
       "</table>\n",
       "</div>"
      ],
      "text/plain": [
       "                      sum  rank\n",
       "negative_emotion  15636.0     0\n",
       "speaking          14197.0     1\n",
       "communication     13203.0     2\n",
       "positive_emotion  12015.0     3\n",
       "trust             11089.0     4\n",
       "friends           10963.0     5\n",
       "children           9412.0     6\n",
       "sexual             8798.0     7\n",
       "love               8469.0     8\n",
       "optimism           8468.0     9"
      ]
     },
     "execution_count": 132,
     "metadata": {},
     "output_type": "execute_result"
    }
   ],
   "source": [
    "data_analyze.head(10)"
   ]
  },
  {
   "cell_type": "code",
   "execution_count": 104,
   "metadata": {},
   "outputs": [],
   "source": [
    "data_analyze['rank'] = np.arange(len(sort))"
   ]
  },
  {
   "cell_type": "code",
   "execution_count": 105,
   "metadata": {},
   "outputs": [
    {
     "data": {
      "text/html": [
       "<div>\n",
       "<style scoped>\n",
       "    .dataframe tbody tr th:only-of-type {\n",
       "        vertical-align: middle;\n",
       "    }\n",
       "\n",
       "    .dataframe tbody tr th {\n",
       "        vertical-align: top;\n",
       "    }\n",
       "\n",
       "    .dataframe thead th {\n",
       "        text-align: right;\n",
       "    }\n",
       "</style>\n",
       "<table border=\"1\" class=\"dataframe\">\n",
       "  <thead>\n",
       "    <tr style=\"text-align: right;\">\n",
       "      <th></th>\n",
       "      <th>0</th>\n",
       "      <th>rank</th>\n",
       "    </tr>\n",
       "  </thead>\n",
       "  <tbody>\n",
       "    <tr>\n",
       "      <th>negative_emotion</th>\n",
       "      <td>15636.0</td>\n",
       "      <td>0</td>\n",
       "    </tr>\n",
       "    <tr>\n",
       "      <th>speaking</th>\n",
       "      <td>14197.0</td>\n",
       "      <td>1</td>\n",
       "    </tr>\n",
       "    <tr>\n",
       "      <th>communication</th>\n",
       "      <td>13203.0</td>\n",
       "      <td>2</td>\n",
       "    </tr>\n",
       "    <tr>\n",
       "      <th>positive_emotion</th>\n",
       "      <td>12015.0</td>\n",
       "      <td>3</td>\n",
       "    </tr>\n",
       "    <tr>\n",
       "      <th>trust</th>\n",
       "      <td>11089.0</td>\n",
       "      <td>4</td>\n",
       "    </tr>\n",
       "  </tbody>\n",
       "</table>\n",
       "</div>"
      ],
      "text/plain": [
       "                        0  rank\n",
       "negative_emotion  15636.0     0\n",
       "speaking          14197.0     1\n",
       "communication     13203.0     2\n",
       "positive_emotion  12015.0     3\n",
       "trust             11089.0     4"
      ]
     },
     "execution_count": 105,
     "metadata": {},
     "output_type": "execute_result"
    }
   ],
   "source": [
    "data_analyze.head()"
   ]
  },
  {
   "cell_type": "code",
   "execution_count": 114,
   "metadata": {},
   "outputs": [],
   "source": [
    "data_analyze.rename(columns={0:'sum'}, inplace=True)"
   ]
  },
  {
   "cell_type": "code",
   "execution_count": 181,
   "metadata": {},
   "outputs": [
    {
     "data": {
      "text/html": [
       "<div>\n",
       "<style scoped>\n",
       "    .dataframe tbody tr th:only-of-type {\n",
       "        vertical-align: middle;\n",
       "    }\n",
       "\n",
       "    .dataframe tbody tr th {\n",
       "        vertical-align: top;\n",
       "    }\n",
       "\n",
       "    .dataframe thead th {\n",
       "        text-align: right;\n",
       "    }\n",
       "</style>\n",
       "<table border=\"1\" class=\"dataframe\">\n",
       "  <thead>\n",
       "    <tr style=\"text-align: right;\">\n",
       "      <th></th>\n",
       "      <th>sum</th>\n",
       "      <th>rank</th>\n",
       "    </tr>\n",
       "  </thead>\n",
       "  <tbody>\n",
       "    <tr>\n",
       "      <th>negative_emotion</th>\n",
       "      <td>15636.0</td>\n",
       "      <td>0</td>\n",
       "    </tr>\n",
       "    <tr>\n",
       "      <th>speaking</th>\n",
       "      <td>14197.0</td>\n",
       "      <td>1</td>\n",
       "    </tr>\n",
       "    <tr>\n",
       "      <th>communication</th>\n",
       "      <td>13203.0</td>\n",
       "      <td>2</td>\n",
       "    </tr>\n",
       "    <tr>\n",
       "      <th>positive_emotion</th>\n",
       "      <td>12015.0</td>\n",
       "      <td>3</td>\n",
       "    </tr>\n",
       "    <tr>\n",
       "      <th>trust</th>\n",
       "      <td>11089.0</td>\n",
       "      <td>4</td>\n",
       "    </tr>\n",
       "  </tbody>\n",
       "</table>\n",
       "</div>"
      ],
      "text/plain": [
       "                      sum  rank\n",
       "negative_emotion  15636.0     0\n",
       "speaking          14197.0     1\n",
       "communication     13203.0     2\n",
       "positive_emotion  12015.0     3\n",
       "trust             11089.0     4"
      ]
     },
     "execution_count": 181,
     "metadata": {},
     "output_type": "execute_result"
    }
   ],
   "source": [
    "data_analyze.head()"
   ]
  },
  {
   "cell_type": "code",
   "execution_count": 116,
   "metadata": {},
   "outputs": [
    {
     "data": {
      "text/html": [
       "<div>\n",
       "<style scoped>\n",
       "    .dataframe tbody tr th:only-of-type {\n",
       "        vertical-align: middle;\n",
       "    }\n",
       "\n",
       "    .dataframe tbody tr th {\n",
       "        vertical-align: top;\n",
       "    }\n",
       "\n",
       "    .dataframe thead th {\n",
       "        text-align: right;\n",
       "    }\n",
       "</style>\n",
       "<table border=\"1\" class=\"dataframe\">\n",
       "  <thead>\n",
       "    <tr style=\"text-align: right;\">\n",
       "      <th></th>\n",
       "      <th>ID</th>\n",
       "      <th>Comment</th>\n",
       "      <th>Author</th>\n",
       "      <th>Score</th>\n",
       "      <th>Parent id</th>\n",
       "      <th>Publish Date</th>\n",
       "      <th>year</th>\n",
       "      <th>month</th>\n",
       "      <th>polarity</th>\n",
       "      <th>subjectivity</th>\n",
       "    </tr>\n",
       "  </thead>\n",
       "  <tbody>\n",
       "    <tr>\n",
       "      <th>0</th>\n",
       "      <td>chi1gnk</td>\n",
       "      <td>Did many other people at your school/college d...</td>\n",
       "      <td>accacaaccaca</td>\n",
       "      <td>4</td>\n",
       "      <td>t3_25kd9o</td>\n",
       "      <td>2014-05-14 17:36:05</td>\n",
       "      <td>2014</td>\n",
       "      <td>2014-05</td>\n",
       "      <td>0.093750</td>\n",
       "      <td>0.418750</td>\n",
       "    </tr>\n",
       "    <tr>\n",
       "      <th>2</th>\n",
       "      <td>chi9org</td>\n",
       "      <td>Seconding this. What do you think it would tak...</td>\n",
       "      <td>laskuraska</td>\n",
       "      <td>2</td>\n",
       "      <td>t1_chi6vf2</td>\n",
       "      <td>2014-05-14 22:31:07</td>\n",
       "      <td>2014</td>\n",
       "      <td>2014-05</td>\n",
       "      <td>-0.066667</td>\n",
       "      <td>0.533333</td>\n",
       "    </tr>\n",
       "    <tr>\n",
       "      <th>3</th>\n",
       "      <td>chibx7j</td>\n",
       "      <td>Personally, I think the best way redpillers co...</td>\n",
       "      <td>[deleted]</td>\n",
       "      <td>3</td>\n",
       "      <td>t1_chi6vf2</td>\n",
       "      <td>2014-05-14 23:53:34</td>\n",
       "      <td>2014</td>\n",
       "      <td>2014-05</td>\n",
       "      <td>0.357500</td>\n",
       "      <td>0.434938</td>\n",
       "    </tr>\n",
       "    <tr>\n",
       "      <th>5</th>\n",
       "      <td>chic9k5</td>\n",
       "      <td>Actually, not that many people sent up red fla...</td>\n",
       "      <td>[deleted]</td>\n",
       "      <td>7</td>\n",
       "      <td>t1_chi1gnk</td>\n",
       "      <td>2014-05-15 00:07:10</td>\n",
       "      <td>2014</td>\n",
       "      <td>2014-05</td>\n",
       "      <td>-0.026091</td>\n",
       "      <td>0.377381</td>\n",
       "    </tr>\n",
       "    <tr>\n",
       "      <th>6</th>\n",
       "      <td>chie456</td>\n",
       "      <td>&amp;gtUnfortunately, all the pretty girls smoked ...</td>\n",
       "      <td>chinchillazilla54</td>\n",
       "      <td>1</td>\n",
       "      <td>t3_25kd9o</td>\n",
       "      <td>2014-05-15 01:27:10</td>\n",
       "      <td>2014</td>\n",
       "      <td>2014-05</td>\n",
       "      <td>0.216250</td>\n",
       "      <td>0.720324</td>\n",
       "    </tr>\n",
       "  </tbody>\n",
       "</table>\n",
       "</div>"
      ],
      "text/plain": [
       "        ID                                            Comment  \\\n",
       "0  chi1gnk  Did many other people at your school/college d...   \n",
       "2  chi9org  Seconding this. What do you think it would tak...   \n",
       "3  chibx7j  Personally, I think the best way redpillers co...   \n",
       "5  chic9k5  Actually, not that many people sent up red fla...   \n",
       "6  chie456  &gtUnfortunately, all the pretty girls smoked ...   \n",
       "\n",
       "              Author  Score   Parent id         Publish Date  year    month  \\\n",
       "0       accacaaccaca      4   t3_25kd9o  2014-05-14 17:36:05  2014  2014-05   \n",
       "2         laskuraska      2  t1_chi6vf2  2014-05-14 22:31:07  2014  2014-05   \n",
       "3          [deleted]      3  t1_chi6vf2  2014-05-14 23:53:34  2014  2014-05   \n",
       "5          [deleted]      7  t1_chi1gnk  2014-05-15 00:07:10  2014  2014-05   \n",
       "6  chinchillazilla54      1   t3_25kd9o  2014-05-15 01:27:10  2014  2014-05   \n",
       "\n",
       "   polarity  subjectivity  \n",
       "0  0.093750      0.418750  \n",
       "2 -0.066667      0.533333  \n",
       "3  0.357500      0.434938  \n",
       "5 -0.026091      0.377381  \n",
       "6  0.216250      0.720324  "
      ]
     },
     "execution_count": 116,
     "metadata": {},
     "output_type": "execute_result"
    }
   ],
   "source": [
    "exredpill.head()"
   ]
  },
  {
   "cell_type": "code",
   "execution_count": 118,
   "metadata": {},
   "outputs": [],
   "source": [
    "exredpill['negative_emotion'] = [lexicon.analyze(comment)['negative_emotion'] for comment in exredpill['Comment']]"
   ]
  },
  {
   "cell_type": "code",
   "execution_count": 133,
   "metadata": {},
   "outputs": [],
   "source": [
    "exredpill['hate'] = [lexicon.analyze(comment)['hate'] for comment in exredpill['Comment']]"
   ]
  },
  {
   "cell_type": "code",
   "execution_count": 182,
   "metadata": {},
   "outputs": [],
   "source": [
    "exredpill['violence'] = [lexicon.analyze(comment)['violence'] for comment in exredpill['Comment']]"
   ]
  },
  {
   "cell_type": "code",
   "execution_count": 183,
   "metadata": {},
   "outputs": [],
   "source": [
    "exredpill['death'] = [lexicon.analyze(comment)['death'] for comment in exredpill['Comment']]"
   ]
  },
  {
   "cell_type": "code",
   "execution_count": 184,
   "metadata": {},
   "outputs": [
    {
     "data": {
      "text/html": [
       "<div>\n",
       "<style scoped>\n",
       "    .dataframe tbody tr th:only-of-type {\n",
       "        vertical-align: middle;\n",
       "    }\n",
       "\n",
       "    .dataframe tbody tr th {\n",
       "        vertical-align: top;\n",
       "    }\n",
       "\n",
       "    .dataframe thead th {\n",
       "        text-align: right;\n",
       "    }\n",
       "</style>\n",
       "<table border=\"1\" class=\"dataframe\">\n",
       "  <thead>\n",
       "    <tr style=\"text-align: right;\">\n",
       "      <th></th>\n",
       "      <th>ID</th>\n",
       "      <th>Comment</th>\n",
       "      <th>Author</th>\n",
       "      <th>Score</th>\n",
       "      <th>Parent id</th>\n",
       "      <th>Publish Date</th>\n",
       "      <th>year</th>\n",
       "      <th>month</th>\n",
       "      <th>polarity</th>\n",
       "      <th>subjectivity</th>\n",
       "      <th>negative_emotion</th>\n",
       "      <th>hate</th>\n",
       "      <th>violence</th>\n",
       "      <th>death</th>\n",
       "    </tr>\n",
       "  </thead>\n",
       "  <tbody>\n",
       "    <tr>\n",
       "      <th>0</th>\n",
       "      <td>chi1gnk</td>\n",
       "      <td>Did many other people at your school/college d...</td>\n",
       "      <td>accacaaccaca</td>\n",
       "      <td>4</td>\n",
       "      <td>t3_25kd9o</td>\n",
       "      <td>2014-05-14 17:36:05</td>\n",
       "      <td>2014</td>\n",
       "      <td>2014-05</td>\n",
       "      <td>0.093750</td>\n",
       "      <td>0.418750</td>\n",
       "      <td>0.0</td>\n",
       "      <td>0.0</td>\n",
       "      <td>0.0</td>\n",
       "      <td>0.0</td>\n",
       "    </tr>\n",
       "    <tr>\n",
       "      <th>2</th>\n",
       "      <td>chi9org</td>\n",
       "      <td>Seconding this. What do you think it would tak...</td>\n",
       "      <td>laskuraska</td>\n",
       "      <td>2</td>\n",
       "      <td>t1_chi6vf2</td>\n",
       "      <td>2014-05-14 22:31:07</td>\n",
       "      <td>2014</td>\n",
       "      <td>2014-05</td>\n",
       "      <td>-0.066667</td>\n",
       "      <td>0.533333</td>\n",
       "      <td>0.0</td>\n",
       "      <td>0.0</td>\n",
       "      <td>1.0</td>\n",
       "      <td>0.0</td>\n",
       "    </tr>\n",
       "    <tr>\n",
       "      <th>3</th>\n",
       "      <td>chibx7j</td>\n",
       "      <td>Personally, I think the best way redpillers co...</td>\n",
       "      <td>[deleted]</td>\n",
       "      <td>3</td>\n",
       "      <td>t1_chi6vf2</td>\n",
       "      <td>2014-05-14 23:53:34</td>\n",
       "      <td>2014</td>\n",
       "      <td>2014-05</td>\n",
       "      <td>0.357500</td>\n",
       "      <td>0.434938</td>\n",
       "      <td>2.0</td>\n",
       "      <td>1.0</td>\n",
       "      <td>1.0</td>\n",
       "      <td>0.0</td>\n",
       "    </tr>\n",
       "    <tr>\n",
       "      <th>5</th>\n",
       "      <td>chic9k5</td>\n",
       "      <td>Actually, not that many people sent up red fla...</td>\n",
       "      <td>[deleted]</td>\n",
       "      <td>7</td>\n",
       "      <td>t1_chi1gnk</td>\n",
       "      <td>2014-05-15 00:07:10</td>\n",
       "      <td>2014</td>\n",
       "      <td>2014-05</td>\n",
       "      <td>-0.026091</td>\n",
       "      <td>0.377381</td>\n",
       "      <td>2.0</td>\n",
       "      <td>0.0</td>\n",
       "      <td>1.0</td>\n",
       "      <td>1.0</td>\n",
       "    </tr>\n",
       "    <tr>\n",
       "      <th>6</th>\n",
       "      <td>chie456</td>\n",
       "      <td>&amp;gtUnfortunately, all the pretty girls smoked ...</td>\n",
       "      <td>chinchillazilla54</td>\n",
       "      <td>1</td>\n",
       "      <td>t3_25kd9o</td>\n",
       "      <td>2014-05-15 01:27:10</td>\n",
       "      <td>2014</td>\n",
       "      <td>2014-05</td>\n",
       "      <td>0.216250</td>\n",
       "      <td>0.720324</td>\n",
       "      <td>2.0</td>\n",
       "      <td>0.0</td>\n",
       "      <td>0.0</td>\n",
       "      <td>0.0</td>\n",
       "    </tr>\n",
       "  </tbody>\n",
       "</table>\n",
       "</div>"
      ],
      "text/plain": [
       "        ID                                            Comment  \\\n",
       "0  chi1gnk  Did many other people at your school/college d...   \n",
       "2  chi9org  Seconding this. What do you think it would tak...   \n",
       "3  chibx7j  Personally, I think the best way redpillers co...   \n",
       "5  chic9k5  Actually, not that many people sent up red fla...   \n",
       "6  chie456  &gtUnfortunately, all the pretty girls smoked ...   \n",
       "\n",
       "              Author  Score   Parent id         Publish Date  year    month  \\\n",
       "0       accacaaccaca      4   t3_25kd9o  2014-05-14 17:36:05  2014  2014-05   \n",
       "2         laskuraska      2  t1_chi6vf2  2014-05-14 22:31:07  2014  2014-05   \n",
       "3          [deleted]      3  t1_chi6vf2  2014-05-14 23:53:34  2014  2014-05   \n",
       "5          [deleted]      7  t1_chi1gnk  2014-05-15 00:07:10  2014  2014-05   \n",
       "6  chinchillazilla54      1   t3_25kd9o  2014-05-15 01:27:10  2014  2014-05   \n",
       "\n",
       "   polarity  subjectivity  negative_emotion  hate  violence  death  \n",
       "0  0.093750      0.418750               0.0   0.0       0.0    0.0  \n",
       "2 -0.066667      0.533333               0.0   0.0       1.0    0.0  \n",
       "3  0.357500      0.434938               2.0   1.0       1.0    0.0  \n",
       "5 -0.026091      0.377381               2.0   0.0       1.0    1.0  \n",
       "6  0.216250      0.720324               2.0   0.0       0.0    0.0  "
      ]
     },
     "execution_count": 184,
     "metadata": {},
     "output_type": "execute_result"
    }
   ],
   "source": [
    "exredpill.head()"
   ]
  },
  {
   "cell_type": "code",
   "execution_count": 160,
   "metadata": {},
   "outputs": [],
   "source": [
    "negative_emotion_data = exredpill.groupby('month')['negative_emotion'].mean()"
   ]
  },
  {
   "cell_type": "code",
   "execution_count": 161,
   "metadata": {},
   "outputs": [
    {
     "data": {
      "text/plain": [
       "month\n",
       "2014-05    1.035714\n",
       "2014-06    0.506494\n",
       "2014-07    0.410714\n",
       "2014-08    0.869565\n",
       "2014-09    1.198020\n",
       "Name: negative_emotion, dtype: float64"
      ]
     },
     "execution_count": 161,
     "metadata": {},
     "output_type": "execute_result"
    }
   ],
   "source": [
    "negative_emotion_data.head()"
   ]
  },
  {
   "cell_type": "code",
   "execution_count": 162,
   "metadata": {},
   "outputs": [],
   "source": [
    "hate_data = exredpill.groupby('month')['hate'].mean()"
   ]
  },
  {
   "cell_type": "code",
   "execution_count": 164,
   "metadata": {},
   "outputs": [
    {
     "data": {
      "image/png": "[encoded data removed]",
      "text/plain": [
       "<Figure size 432x288 with 1 Axes>"
      ]
     },
     "metadata": {
      "needs_background": "light"
     },
     "output_type": "display_data"
    }
   ],
   "source": [
    "plt.plot(hate_data, ('-'));\n",
    "plt.plot(negative_emotion_data, ('-'));"
   ]
  },
  {
   "cell_type": "code",
   "execution_count": 212,
   "metadata": {},
   "outputs": [
    {
     "ename": "SyntaxError",
     "evalue": "keyword can't be an expression (<ipython-input-212-8b89c7d72f2e>, line 5)",
     "output_type": "error",
     "traceback": [
      "\u001b[0;36m  File \u001b[0;32m\"<ipython-input-212-8b89c7d72f2e>\"\u001b[0;36m, line \u001b[0;32m5\u001b[0m\n\u001b[0;31m    emotions_by_year = pd.DataFrame('emotion'={'negative emotion':negative_emotion_data,'hate':hate_data, 'violence':violence_data, 'death':death_data})\u001b[0m\n\u001b[0m                                   ^\u001b[0m\n\u001b[0;31mSyntaxError\u001b[0m\u001b[0;31m:\u001b[0m keyword can't be an expression\n"
     ]
    }
   ],
   "source": [
    "negative_emotion_data = exredpill.groupby('year')['negative_emotion'].mean()\n",
    "hate_data = exredpill.groupby('year')['hate'].mean()\n",
    "violence_data = exredpill.groupby('year')['violence'].mean()\n",
    "death_data = exredpill.groupby('year')['death'].mean()\n",
    "emotions_by_year = pd.DataFrame('emotion'={'negative emotion':negative_emotion_data,'hate':hate_data, 'violence':violence_data, 'death':death_data})"
   ]
  },
  {
   "cell_type": "code",
   "execution_count": 186,
   "metadata": {},
   "outputs": [
    {
     "data": {
      "image/png": "[encoded data removed]",
      "text/plain": [
       "<Figure size 432x288 with 1 Axes>"
      ]
     },
     "metadata": {
      "needs_background": "light"
     },
     "output_type": "display_data"
    }
   ],
   "source": [
    "plt.plot(hate_data, ('-'));"
   ]
  },
  {
   "cell_type": "code",
   "execution_count": 187,
   "metadata": {},
   "outputs": [
    {
     "data": {
      "image/png": "[encoded data removed]",
      "text/plain": [
       "<Figure size 432x288 with 1 Axes>"
      ]
     },
     "metadata": {
      "needs_background": "light"
     },
     "output_type": "display_data"
    }
   ],
   "source": [
    "plt.plot(negative_emotion_data, ('-'));"
   ]
  },
  {
   "cell_type": "code",
   "execution_count": 190,
   "metadata": {},
   "outputs": [
    {
     "data": {
      "image/png": "[encoded data removed]",
      "text/plain": [
       "<Figure size 432x288 with 1 Axes>"
      ]
     },
     "metadata": {
      "needs_background": "light"
     },
     "output_type": "display_data"
    }
   ],
   "source": [
    "plt.plot(violence_data, ('-'));"
   ]
  },
  {
   "cell_type": "code",
   "execution_count": 191,
   "metadata": {},
   "outputs": [
    {
     "data": {
      "image/png": "[encoded data removed]",
      "text/plain": [
       "<Figure size 432x288 with 1 Axes>"
      ]
     },
     "metadata": {
      "needs_background": "light"
     },
     "output_type": "display_data"
    }
   ],
   "source": [
    "plt.plot(death_data, ('-'));"
   ]
  },
  {
   "cell_type": "code",
   "execution_count": 210,
   "metadata": {},
   "outputs": [
    {
     "data": {
      "text/html": [
       "<div>\n",
       "<style scoped>\n",
       "    .dataframe tbody tr th:only-of-type {\n",
       "        vertical-align: middle;\n",
       "    }\n",
       "\n",
       "    .dataframe tbody tr th {\n",
       "        vertical-align: top;\n",
       "    }\n",
       "\n",
       "    .dataframe thead th {\n",
       "        text-align: right;\n",
       "    }\n",
       "</style>\n",
       "<table border=\"1\" class=\"dataframe\">\n",
       "  <thead>\n",
       "    <tr style=\"text-align: right;\">\n",
       "      <th></th>\n",
       "      <th>negative emotion</th>\n",
       "      <th>hate</th>\n",
       "      <th>violence</th>\n",
       "      <th>death</th>\n",
       "    </tr>\n",
       "    <tr>\n",
       "      <th>year</th>\n",
       "      <th></th>\n",
       "      <th></th>\n",
       "      <th></th>\n",
       "      <th></th>\n",
       "    </tr>\n",
       "  </thead>\n",
       "  <tbody>\n",
       "    <tr>\n",
       "      <th>2014</th>\n",
       "      <td>1.052561</td>\n",
       "      <td>0.479784</td>\n",
       "      <td>0.498652</td>\n",
       "      <td>0.212938</td>\n",
       "    </tr>\n",
       "    <tr>\n",
       "      <th>2015</th>\n",
       "      <td>0.957647</td>\n",
       "      <td>0.404706</td>\n",
       "      <td>0.458824</td>\n",
       "      <td>0.261176</td>\n",
       "    </tr>\n",
       "    <tr>\n",
       "      <th>2016</th>\n",
       "      <td>1.060296</td>\n",
       "      <td>0.455063</td>\n",
       "      <td>0.563519</td>\n",
       "      <td>0.255973</td>\n",
       "    </tr>\n",
       "    <tr>\n",
       "      <th>2017</th>\n",
       "      <td>0.962627</td>\n",
       "      <td>0.394254</td>\n",
       "      <td>0.506373</td>\n",
       "      <td>0.209765</td>\n",
       "    </tr>\n",
       "    <tr>\n",
       "      <th>2018</th>\n",
       "      <td>0.856408</td>\n",
       "      <td>0.318050</td>\n",
       "      <td>0.454261</td>\n",
       "      <td>0.183851</td>\n",
       "    </tr>\n",
       "    <tr>\n",
       "      <th>2019</th>\n",
       "      <td>0.901483</td>\n",
       "      <td>0.323446</td>\n",
       "      <td>0.466102</td>\n",
       "      <td>0.176201</td>\n",
       "    </tr>\n",
       "  </tbody>\n",
       "</table>\n",
       "</div>"
      ],
      "text/plain": [
       "      negative emotion      hate  violence     death\n",
       "year                                                \n",
       "2014          1.052561  0.479784  0.498652  0.212938\n",
       "2015          0.957647  0.404706  0.458824  0.261176\n",
       "2016          1.060296  0.455063  0.563519  0.255973\n",
       "2017          0.962627  0.394254  0.506373  0.209765\n",
       "2018          0.856408  0.318050  0.454261  0.183851\n",
       "2019          0.901483  0.323446  0.466102  0.176201"
      ]
     },
     "execution_count": 210,
     "metadata": {},
     "output_type": "execute_result"
    }
   ],
   "source": [
    "emotions_by_year\n"
   ]
  },
  {
   "cell_type": "code",
   "execution_count": 211,
   "metadata": {},
   "outputs": [
    {
     "ename": "ValueError",
     "evalue": "Could not interpret input 'year'",
     "output_type": "error",
     "traceback": [
      "\u001b[0;31m---------------------------------------------------------------------------\u001b[0m",
      "\u001b[0;31mValueError\u001b[0m                                Traceback (most recent call last)",
      "\u001b[0;32m<ipython-input-211-e46e99229273>\u001b[0m in \u001b[0;36m<module>\u001b[0;34m\u001b[0m\n\u001b[1;32m      1\u001b[0m \u001b[0;32mwith\u001b[0m \u001b[0msns\u001b[0m\u001b[0;34m.\u001b[0m\u001b[0maxes_style\u001b[0m\u001b[0;34m(\u001b[0m\u001b[0;34m'white'\u001b[0m\u001b[0;34m)\u001b[0m\u001b[0;34m:\u001b[0m\u001b[0;34m\u001b[0m\u001b[0;34m\u001b[0m\u001b[0m\n\u001b[0;32m----> 2\u001b[0;31m  \u001b[0mg\u001b[0m \u001b[0;34m=\u001b[0m \u001b[0msns\u001b[0m\u001b[0;34m.\u001b[0m\u001b[0mcatplot\u001b[0m\u001b[0;34m(\u001b[0m\u001b[0;34m\"year\"\u001b[0m\u001b[0;34m,\u001b[0m \u001b[0mdata\u001b[0m\u001b[0;34m=\u001b[0m\u001b[0memotions_by_year\u001b[0m\u001b[0;34m,\u001b[0m \u001b[0maspect\u001b[0m\u001b[0;34m=\u001b[0m\u001b[0;36m4.0\u001b[0m\u001b[0;34m,\u001b[0m \u001b[0mkind\u001b[0m\u001b[0;34m=\u001b[0m\u001b[0;34m'count'\u001b[0m\u001b[0;34m)\u001b[0m\u001b[0;34m\u001b[0m\u001b[0;34m\u001b[0m\u001b[0m\n\u001b[0m",
      "\u001b[0;32m~/miniconda3/lib/python3.7/site-packages/seaborn/categorical.py\u001b[0m in \u001b[0;36mcatplot\u001b[0;34m(x, y, hue, data, row, col, col_wrap, estimator, ci, n_boot, units, order, hue_order, row_order, col_order, kind, height, aspect, orient, color, palette, legend, legend_out, sharex, sharey, margin_titles, facet_kws, **kwargs)\u001b[0m\n\u001b[1;32m   3714\u001b[0m     \u001b[0;31m# facets to ensure representation of all data in the final plot\u001b[0m\u001b[0;34m\u001b[0m\u001b[0;34m\u001b[0m\u001b[0;34m\u001b[0m\u001b[0m\n\u001b[1;32m   3715\u001b[0m     \u001b[0mp\u001b[0m \u001b[0;34m=\u001b[0m \u001b[0m_CategoricalPlotter\u001b[0m\u001b[0;34m(\u001b[0m\u001b[0;34m)\u001b[0m\u001b[0;34m\u001b[0m\u001b[0;34m\u001b[0m\u001b[0m\n\u001b[0;32m-> 3716\u001b[0;31m     \u001b[0mp\u001b[0m\u001b[0;34m.\u001b[0m\u001b[0mestablish_variables\u001b[0m\u001b[0;34m(\u001b[0m\u001b[0mx_\u001b[0m\u001b[0;34m,\u001b[0m \u001b[0my_\u001b[0m\u001b[0;34m,\u001b[0m \u001b[0mhue\u001b[0m\u001b[0;34m,\u001b[0m \u001b[0mdata\u001b[0m\u001b[0;34m,\u001b[0m \u001b[0morient\u001b[0m\u001b[0;34m,\u001b[0m \u001b[0morder\u001b[0m\u001b[0;34m,\u001b[0m \u001b[0mhue_order\u001b[0m\u001b[0;34m)\u001b[0m\u001b[0;34m\u001b[0m\u001b[0;34m\u001b[0m\u001b[0m\n\u001b[0m\u001b[1;32m   3717\u001b[0m     \u001b[0morder\u001b[0m \u001b[0;34m=\u001b[0m \u001b[0mp\u001b[0m\u001b[0;34m.\u001b[0m\u001b[0mgroup_names\u001b[0m\u001b[0;34m\u001b[0m\u001b[0;34m\u001b[0m\u001b[0m\n\u001b[1;32m   3718\u001b[0m     \u001b[0mhue_order\u001b[0m \u001b[0;34m=\u001b[0m \u001b[0mp\u001b[0m\u001b[0;34m.\u001b[0m\u001b[0mhue_names\u001b[0m\u001b[0;34m\u001b[0m\u001b[0;34m\u001b[0m\u001b[0m\n",
      "\u001b[0;32m~/miniconda3/lib/python3.7/site-packages/seaborn/categorical.py\u001b[0m in \u001b[0;36mestablish_variables\u001b[0;34m(self, x, y, hue, data, orient, order, hue_order, units)\u001b[0m\n\u001b[1;32m    153\u001b[0m                 \u001b[0;32mif\u001b[0m \u001b[0misinstance\u001b[0m\u001b[0;34m(\u001b[0m\u001b[0minput\u001b[0m\u001b[0;34m,\u001b[0m \u001b[0mstring_types\u001b[0m\u001b[0;34m)\u001b[0m\u001b[0;34m:\u001b[0m\u001b[0;34m\u001b[0m\u001b[0;34m\u001b[0m\u001b[0m\n\u001b[1;32m    154\u001b[0m                     \u001b[0merr\u001b[0m \u001b[0;34m=\u001b[0m \u001b[0;34m\"Could not interpret input '{}'\"\u001b[0m\u001b[0;34m.\u001b[0m\u001b[0mformat\u001b[0m\u001b[0;34m(\u001b[0m\u001b[0minput\u001b[0m\u001b[0;34m)\u001b[0m\u001b[0;34m\u001b[0m\u001b[0;34m\u001b[0m\u001b[0m\n\u001b[0;32m--> 155\u001b[0;31m                     \u001b[0;32mraise\u001b[0m \u001b[0mValueError\u001b[0m\u001b[0;34m(\u001b[0m\u001b[0merr\u001b[0m\u001b[0;34m)\u001b[0m\u001b[0;34m\u001b[0m\u001b[0;34m\u001b[0m\u001b[0m\n\u001b[0m\u001b[1;32m    156\u001b[0m \u001b[0;34m\u001b[0m\u001b[0m\n\u001b[1;32m    157\u001b[0m             \u001b[0;31m# Figure out the plotting orientation\u001b[0m\u001b[0;34m\u001b[0m\u001b[0;34m\u001b[0m\u001b[0;34m\u001b[0m\u001b[0m\n",
      "\u001b[0;31mValueError\u001b[0m: Could not interpret input 'year'"
     ]
    }
   ],
   "source": [
    "with sns.axes_style('white'):\n",
    " g = sns.catplot(\"year\", data=emotions_by_year, aspect=4.0, kind='count')\n"
   ]
  },
  {
   "cell_type": "code",
   "execution_count": null,
   "metadata": {},
   "outputs": [],
   "source": []
  }
 ],
 "metadata": {
  "kernelspec": {
   "display_name": "Python 3",
   "language": "python",
   "name": "python3"
  },
  "language_info": {
   "codemirror_mode": {
    "name": "ipython",
    "version": 3
   },
   "file_extension": ".py",
   "mimetype": "text/x-python",
   "name": "python",
   "nbconvert_exporter": "python",
   "pygments_lexer": "ipython3",
   "version": "3.7.1"
  }
 },
 "nbformat": 4,
 "nbformat_minor": 2
}
